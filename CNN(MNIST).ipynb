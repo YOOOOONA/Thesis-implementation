{
 "cells": [
  {
   "cell_type": "code",
   "execution_count": 23,
   "metadata": {},
   "outputs": [
    {
     "name": "stdout",
     "output_type": "stream",
     "text": [
      "PACKAGES LOADED\n"
     ]
    }
   ],
   "source": [
    "import numpy as np\n",
    "import tensorflow as tf\n",
    "from tensorflow.examples.tutorials.mnist import input_data\n",
    "import tensorflow as tf\n",
    "import os\n",
    "import matplotlib.pyplot as plt\n",
    "%matplotlib inline\n",
    "print(\"PACKAGES LOADED\")"
   ]
  },
  {
   "cell_type": "code",
   "execution_count": 24,
   "metadata": {},
   "outputs": [
    {
     "name": "stdout",
     "output_type": "stream",
     "text": [
      "Extracting data/train-images-idx3-ubyte.gz\n",
      "Extracting data/train-labels-idx1-ubyte.gz\n",
      "Extracting data/t10k-images-idx3-ubyte.gz\n",
      "Extracting data/t10k-labels-idx1-ubyte.gz\n",
      "MNIST loaded\n"
     ]
    }
   ],
   "source": [
    "mnist = input_data.read_data_sets('data/',one_hot=True)\n",
    "trainimg = mnist.train.images\n",
    "trainlabel = mnist.train.labels\n",
    "testimg = mnist.test.images\n",
    "testlabel = mnist.test.labels\n",
    "print(\"MNIST loaded\")"
   ]
  },
  {
   "cell_type": "code",
   "execution_count": 25,
   "metadata": {},
   "outputs": [
    {
     "name": "stdout",
     "output_type": "stream",
     "text": [
      "NETWORK READY\n"
     ]
    }
   ],
   "source": [
    "#DEFINE MODEL\n",
    "#notwork topologies\n",
    "n_input = 784\n",
    "n_channel = 64#컨볼루션 필터 개수\n",
    "n_classes = 10\n",
    "\n",
    "#inputs and outputs\n",
    "x = tf.placeholder(\"float\", [None, n_input])\n",
    "y = tf.placeholder(\"float\", [None, n_classes])\n",
    "\n",
    "#network parameters\n",
    "stddev = 0.1\n",
    "weights = {\n",
    "    'c1':tf.Variable(tf.random_normal([3,3,1,n_channel],stddev=stddev)),#convolution layer\n",
    "    'c2':tf.Variable(tf.random_normal([3,3,n_channel,128],stddev=stddev)),\n",
    "    'd1':tf.Variable(tf.random_normal([7*7*128,n_classes],stddev=stddev)),#denselayer\n",
    "}\n",
    "biases = {\n",
    "    'c1':tf.Variable(tf.random_normal([n_channel],stddev=stddev)),\n",
    "    'c2':tf.Variable(tf.random_normal([128],stddev=stddev)),\n",
    "    'd1':tf.Variable(tf.random_normal([n_classes],stddev=stddev)),\n",
    "}\n",
    "print(\"NETWORK READY\")\n"
   ]
  },
  {
   "cell_type": "code",
   "execution_count": 39,
   "metadata": {},
   "outputs": [
    {
     "name": "stdout",
     "output_type": "stream",
     "text": [
      "FUNCTION READY\n"
     ]
    }
   ],
   "source": [
    "#MODEL\n",
    "def CNN(_x, _w, _b):\n",
    "    # RESHAPE(현재 벡터형태라서 텐서형태로 바꿔줘야됨.)\n",
    "    _x_r = tf.reshape(_x, shape=[-1, 28, 28, 1])#앞에 몇갠지 몰라서 -1 여기선 784해줘도돼, 그다음이 28x28x1\n",
    "    # CONVOLUTION\n",
    "    _conv1 = tf.nn.conv2d(_x_r, _w['c1'], strides=[1, 1, 1, 1], padding='SAME')\n",
    "    # ADD BIAS\n",
    "    _conv2 = tf.nn.bias_add(_conv1, _b['c1'])\n",
    "    # RELU\n",
    "    _conv3 = tf.nn.relu(_conv2)\n",
    "    #MAX-POOl\n",
    "    _pool = tf.nn.max_pool(_conv3, ksize=[1, 2, 2, 1], strides=[1, 2, 2, 1], padding='SAME')\n",
    " \n",
    "    # SECOND CONV LAYER\n",
    "    _temp = tf.nn.conv2d(_pool, _w['c2'], strides=[1, 1, 1, 1], padding='SAME')\n",
    "    _temp = tf.nn.bias_add(_temp, _b['c2'])\n",
    "    _temp = tf.nn.relu(_temp)\n",
    "    _temp = tf.nn.max_pool(_temp, ksize=[1, 2, 2, 1], strides=[1, 2, 2, 1], padding='SAME')\n",
    "\n",
    "    # VECTORIZE\n",
    "    _dense = tf.reshape(_temp, [-1, _w['d1'].get_shape().as_list()[0]])#한줄로 핀다\n",
    "    # DENSE\n",
    "    _logit = tf.add(tf.matmul(_dense, _w['d1']), _b['d1'])\n",
    "    _out = {\n",
    "        'x_r' : _x_r, 'conv1' : _conv1, 'conv2' : _conv2, 'conv3' : _conv3,\n",
    "        'pool' : _pool, 'dense' : _dense, 'logit' : _logit\n",
    "}\n",
    "    return _out\n",
    "\n",
    "# PREDICTION\n",
    "cnnout = CNN(x, weights, biases)\n",
    "\n",
    "# LOSS AND OPTIMZER\n",
    "cost = tf.reduce_mean(tf.nn.softmax_cross_entropy_with_logits(labels=y, logits=cnnout['logit']))\n",
    "optm = tf.train.AdamOptimizer(learning_rate=0.001).minimize(cost)#cost를 최소화하는 방향으로 아담 최적화함수를사용한다\n",
    "corr = tf.equal(tf.argmax(cnnout['logit'], 1), tf.argmax(y, 1))\n",
    "accr = tf.reduce_mean(tf.cast(corr, \"float\"))\n",
    "\n",
    "# INITIALIZER\n",
    "init = tf.global_variables_initializer()\n",
    "print (\"FUNCTION READY\")"
   ]
  },
  {
   "cell_type": "code",
   "execution_count": 40,
   "metadata": {},
   "outputs": [
    {
     "name": "stdout",
     "output_type": "stream",
     "text": [
      "SAVER READY\n"
     ]
    }
   ],
   "source": [
    "#SAVER\n",
    "savedir=\"nets/cnn_mnist_simple/\"\n",
    "saver=tf.train.Saver(max_to_keep=3)#??최근 3개 모델만 저장\n",
    "save_step=4#얜뭐지?\n",
    "if not os.path.exists(savedir):\n",
    "    os.makedirs(savedir)\n",
    "print(\"SAVER READY\")"
   ]
  },
  {
   "cell_type": "code",
   "execution_count": 42,
   "metadata": {},
   "outputs": [
    {
     "ename": "KeyboardInterrupt",
     "evalue": "",
     "output_type": "error",
     "traceback": [
      "\u001b[1;31m---------------------------------------------------------------------------\u001b[0m",
      "\u001b[1;31mKeyboardInterrupt\u001b[0m                         Traceback (most recent call last)",
      "\u001b[1;32m<ipython-input-42-1c768e291521>\u001b[0m in \u001b[0;36m<module>\u001b[1;34m\u001b[0m\n\u001b[0;32m     17\u001b[0m         \u001b[0mbatch_xs\u001b[0m\u001b[1;33m,\u001b[0m \u001b[0mbatch_ys\u001b[0m \u001b[1;33m=\u001b[0m \u001b[0mmnist\u001b[0m\u001b[1;33m.\u001b[0m\u001b[0mtrain\u001b[0m\u001b[1;33m.\u001b[0m\u001b[0mnext_batch\u001b[0m\u001b[1;33m(\u001b[0m\u001b[0mbatch_size\u001b[0m\u001b[1;33m)\u001b[0m\u001b[1;33m\u001b[0m\u001b[1;33m\u001b[0m\u001b[0m\n\u001b[0;32m     18\u001b[0m         \u001b[0mfeeds\u001b[0m\u001b[1;33m=\u001b[0m\u001b[1;33m{\u001b[0m\u001b[0mx\u001b[0m\u001b[1;33m:\u001b[0m\u001b[0mbatch_xs\u001b[0m\u001b[1;33m,\u001b[0m \u001b[0my\u001b[0m\u001b[1;33m:\u001b[0m\u001b[0mbatch_ys\u001b[0m\u001b[1;33m}\u001b[0m\u001b[1;33m\u001b[0m\u001b[1;33m\u001b[0m\u001b[0m\n\u001b[1;32m---> 19\u001b[1;33m         \u001b[0msess\u001b[0m\u001b[1;33m.\u001b[0m\u001b[0mrun\u001b[0m\u001b[1;33m(\u001b[0m\u001b[0moptm\u001b[0m\u001b[1;33m,\u001b[0m \u001b[0mfeed_dict\u001b[0m\u001b[1;33m=\u001b[0m\u001b[0mfeeds\u001b[0m\u001b[1;33m)\u001b[0m\u001b[1;33m\u001b[0m\u001b[1;33m\u001b[0m\u001b[0m\n\u001b[0m\u001b[0;32m     20\u001b[0m         \u001b[0mavg_cost\u001b[0m\u001b[1;33m+=\u001b[0m\u001b[0msess\u001b[0m\u001b[1;33m.\u001b[0m\u001b[0mrun\u001b[0m\u001b[1;33m(\u001b[0m\u001b[0mcost\u001b[0m\u001b[1;33m,\u001b[0m \u001b[0mfeed_dict\u001b[0m\u001b[1;33m=\u001b[0m\u001b[0mfeeds\u001b[0m\u001b[1;33m)\u001b[0m\u001b[1;33m\u001b[0m\u001b[1;33m\u001b[0m\u001b[0m\n\u001b[0;32m     21\u001b[0m     \u001b[0mavg_cost\u001b[0m \u001b[1;33m=\u001b[0m \u001b[0mavg_cost\u001b[0m\u001b[1;33m/\u001b[0m\u001b[0mtotal_batch\u001b[0m\u001b[1;33m\u001b[0m\u001b[1;33m\u001b[0m\u001b[0m\n",
      "\u001b[1;32m~\\Anaconda3\\envs\\five\\lib\\site-packages\\tensorflow\\python\\client\\session.py\u001b[0m in \u001b[0;36mrun\u001b[1;34m(self, fetches, feed_dict, options, run_metadata)\u001b[0m\n\u001b[0;32m    927\u001b[0m     \u001b[1;32mtry\u001b[0m\u001b[1;33m:\u001b[0m\u001b[1;33m\u001b[0m\u001b[1;33m\u001b[0m\u001b[0m\n\u001b[0;32m    928\u001b[0m       result = self._run(None, fetches, feed_dict, options_ptr,\n\u001b[1;32m--> 929\u001b[1;33m                          run_metadata_ptr)\n\u001b[0m\u001b[0;32m    930\u001b[0m       \u001b[1;32mif\u001b[0m \u001b[0mrun_metadata\u001b[0m\u001b[1;33m:\u001b[0m\u001b[1;33m\u001b[0m\u001b[1;33m\u001b[0m\u001b[0m\n\u001b[0;32m    931\u001b[0m         \u001b[0mproto_data\u001b[0m \u001b[1;33m=\u001b[0m \u001b[0mtf_session\u001b[0m\u001b[1;33m.\u001b[0m\u001b[0mTF_GetBuffer\u001b[0m\u001b[1;33m(\u001b[0m\u001b[0mrun_metadata_ptr\u001b[0m\u001b[1;33m)\u001b[0m\u001b[1;33m\u001b[0m\u001b[1;33m\u001b[0m\u001b[0m\n",
      "\u001b[1;32m~\\Anaconda3\\envs\\five\\lib\\site-packages\\tensorflow\\python\\client\\session.py\u001b[0m in \u001b[0;36m_run\u001b[1;34m(self, handle, fetches, feed_dict, options, run_metadata)\u001b[0m\n\u001b[0;32m   1150\u001b[0m     \u001b[1;32mif\u001b[0m \u001b[0mfinal_fetches\u001b[0m \u001b[1;32mor\u001b[0m \u001b[0mfinal_targets\u001b[0m \u001b[1;32mor\u001b[0m \u001b[1;33m(\u001b[0m\u001b[0mhandle\u001b[0m \u001b[1;32mand\u001b[0m \u001b[0mfeed_dict_tensor\u001b[0m\u001b[1;33m)\u001b[0m\u001b[1;33m:\u001b[0m\u001b[1;33m\u001b[0m\u001b[1;33m\u001b[0m\u001b[0m\n\u001b[0;32m   1151\u001b[0m       results = self._do_run(handle, final_targets, final_fetches,\n\u001b[1;32m-> 1152\u001b[1;33m                              feed_dict_tensor, options, run_metadata)\n\u001b[0m\u001b[0;32m   1153\u001b[0m     \u001b[1;32melse\u001b[0m\u001b[1;33m:\u001b[0m\u001b[1;33m\u001b[0m\u001b[1;33m\u001b[0m\u001b[0m\n\u001b[0;32m   1154\u001b[0m       \u001b[0mresults\u001b[0m \u001b[1;33m=\u001b[0m \u001b[1;33m[\u001b[0m\u001b[1;33m]\u001b[0m\u001b[1;33m\u001b[0m\u001b[1;33m\u001b[0m\u001b[0m\n",
      "\u001b[1;32m~\\Anaconda3\\envs\\five\\lib\\site-packages\\tensorflow\\python\\client\\session.py\u001b[0m in \u001b[0;36m_do_run\u001b[1;34m(self, handle, target_list, fetch_list, feed_dict, options, run_metadata)\u001b[0m\n\u001b[0;32m   1326\u001b[0m     \u001b[1;32mif\u001b[0m \u001b[0mhandle\u001b[0m \u001b[1;32mis\u001b[0m \u001b[1;32mNone\u001b[0m\u001b[1;33m:\u001b[0m\u001b[1;33m\u001b[0m\u001b[1;33m\u001b[0m\u001b[0m\n\u001b[0;32m   1327\u001b[0m       return self._do_call(_run_fn, feeds, fetches, targets, options,\n\u001b[1;32m-> 1328\u001b[1;33m                            run_metadata)\n\u001b[0m\u001b[0;32m   1329\u001b[0m     \u001b[1;32melse\u001b[0m\u001b[1;33m:\u001b[0m\u001b[1;33m\u001b[0m\u001b[1;33m\u001b[0m\u001b[0m\n\u001b[0;32m   1330\u001b[0m       \u001b[1;32mreturn\u001b[0m \u001b[0mself\u001b[0m\u001b[1;33m.\u001b[0m\u001b[0m_do_call\u001b[0m\u001b[1;33m(\u001b[0m\u001b[0m_prun_fn\u001b[0m\u001b[1;33m,\u001b[0m \u001b[0mhandle\u001b[0m\u001b[1;33m,\u001b[0m \u001b[0mfeeds\u001b[0m\u001b[1;33m,\u001b[0m \u001b[0mfetches\u001b[0m\u001b[1;33m)\u001b[0m\u001b[1;33m\u001b[0m\u001b[1;33m\u001b[0m\u001b[0m\n",
      "\u001b[1;32m~\\Anaconda3\\envs\\five\\lib\\site-packages\\tensorflow\\python\\client\\session.py\u001b[0m in \u001b[0;36m_do_call\u001b[1;34m(self, fn, *args)\u001b[0m\n\u001b[0;32m   1332\u001b[0m   \u001b[1;32mdef\u001b[0m \u001b[0m_do_call\u001b[0m\u001b[1;33m(\u001b[0m\u001b[0mself\u001b[0m\u001b[1;33m,\u001b[0m \u001b[0mfn\u001b[0m\u001b[1;33m,\u001b[0m \u001b[1;33m*\u001b[0m\u001b[0margs\u001b[0m\u001b[1;33m)\u001b[0m\u001b[1;33m:\u001b[0m\u001b[1;33m\u001b[0m\u001b[1;33m\u001b[0m\u001b[0m\n\u001b[0;32m   1333\u001b[0m     \u001b[1;32mtry\u001b[0m\u001b[1;33m:\u001b[0m\u001b[1;33m\u001b[0m\u001b[1;33m\u001b[0m\u001b[0m\n\u001b[1;32m-> 1334\u001b[1;33m       \u001b[1;32mreturn\u001b[0m \u001b[0mfn\u001b[0m\u001b[1;33m(\u001b[0m\u001b[1;33m*\u001b[0m\u001b[0margs\u001b[0m\u001b[1;33m)\u001b[0m\u001b[1;33m\u001b[0m\u001b[1;33m\u001b[0m\u001b[0m\n\u001b[0m\u001b[0;32m   1335\u001b[0m     \u001b[1;32mexcept\u001b[0m \u001b[0merrors\u001b[0m\u001b[1;33m.\u001b[0m\u001b[0mOpError\u001b[0m \u001b[1;32mas\u001b[0m \u001b[0me\u001b[0m\u001b[1;33m:\u001b[0m\u001b[1;33m\u001b[0m\u001b[1;33m\u001b[0m\u001b[0m\n\u001b[0;32m   1336\u001b[0m       \u001b[0mmessage\u001b[0m \u001b[1;33m=\u001b[0m \u001b[0mcompat\u001b[0m\u001b[1;33m.\u001b[0m\u001b[0mas_text\u001b[0m\u001b[1;33m(\u001b[0m\u001b[0me\u001b[0m\u001b[1;33m.\u001b[0m\u001b[0mmessage\u001b[0m\u001b[1;33m)\u001b[0m\u001b[1;33m\u001b[0m\u001b[1;33m\u001b[0m\u001b[0m\n",
      "\u001b[1;32m~\\Anaconda3\\envs\\five\\lib\\site-packages\\tensorflow\\python\\client\\session.py\u001b[0m in \u001b[0;36m_run_fn\u001b[1;34m(feed_dict, fetch_list, target_list, options, run_metadata)\u001b[0m\n\u001b[0;32m   1317\u001b[0m       \u001b[0mself\u001b[0m\u001b[1;33m.\u001b[0m\u001b[0m_extend_graph\u001b[0m\u001b[1;33m(\u001b[0m\u001b[1;33m)\u001b[0m\u001b[1;33m\u001b[0m\u001b[1;33m\u001b[0m\u001b[0m\n\u001b[0;32m   1318\u001b[0m       return self._call_tf_sessionrun(\n\u001b[1;32m-> 1319\u001b[1;33m           options, feed_dict, fetch_list, target_list, run_metadata)\n\u001b[0m\u001b[0;32m   1320\u001b[0m \u001b[1;33m\u001b[0m\u001b[0m\n\u001b[0;32m   1321\u001b[0m     \u001b[1;32mdef\u001b[0m \u001b[0m_prun_fn\u001b[0m\u001b[1;33m(\u001b[0m\u001b[0mhandle\u001b[0m\u001b[1;33m,\u001b[0m \u001b[0mfeed_dict\u001b[0m\u001b[1;33m,\u001b[0m \u001b[0mfetch_list\u001b[0m\u001b[1;33m)\u001b[0m\u001b[1;33m:\u001b[0m\u001b[1;33m\u001b[0m\u001b[1;33m\u001b[0m\u001b[0m\n",
      "\u001b[1;32m~\\Anaconda3\\envs\\five\\lib\\site-packages\\tensorflow\\python\\client\\session.py\u001b[0m in \u001b[0;36m_call_tf_sessionrun\u001b[1;34m(self, options, feed_dict, fetch_list, target_list, run_metadata)\u001b[0m\n\u001b[0;32m   1405\u001b[0m     return tf_session.TF_SessionRun_wrapper(\n\u001b[0;32m   1406\u001b[0m         \u001b[0mself\u001b[0m\u001b[1;33m.\u001b[0m\u001b[0m_session\u001b[0m\u001b[1;33m,\u001b[0m \u001b[0moptions\u001b[0m\u001b[1;33m,\u001b[0m \u001b[0mfeed_dict\u001b[0m\u001b[1;33m,\u001b[0m \u001b[0mfetch_list\u001b[0m\u001b[1;33m,\u001b[0m \u001b[0mtarget_list\u001b[0m\u001b[1;33m,\u001b[0m\u001b[1;33m\u001b[0m\u001b[1;33m\u001b[0m\u001b[0m\n\u001b[1;32m-> 1407\u001b[1;33m         run_metadata)\n\u001b[0m\u001b[0;32m   1408\u001b[0m \u001b[1;33m\u001b[0m\u001b[0m\n\u001b[0;32m   1409\u001b[0m   \u001b[1;32mdef\u001b[0m \u001b[0m_call_tf_sessionprun\u001b[0m\u001b[1;33m(\u001b[0m\u001b[0mself\u001b[0m\u001b[1;33m,\u001b[0m \u001b[0mhandle\u001b[0m\u001b[1;33m,\u001b[0m \u001b[0mfeed_dict\u001b[0m\u001b[1;33m,\u001b[0m \u001b[0mfetch_list\u001b[0m\u001b[1;33m)\u001b[0m\u001b[1;33m:\u001b[0m\u001b[1;33m\u001b[0m\u001b[1;33m\u001b[0m\u001b[0m\n",
      "\u001b[1;31mKeyboardInterrupt\u001b[0m: "
     ]
    }
   ],
   "source": [
    "#RUN(멀티퍼셉트론꺼 복붙)\n",
    "#PARAMETERS\n",
    "training_epochs=20\n",
    "batch_size=100\n",
    "display_step=4\n",
    "\n",
    "#LAUNCH THE GRAPH\n",
    "sess = tf.Session()\n",
    "sess.run(init)\n",
    "\n",
    "#OPTIMIZE\n",
    "for epoch in range(training_epochs):\n",
    "    avg_cost=0.\n",
    "    total_batch=int(mnist.train.num_examples/batch_size)\n",
    "    #ITERATION\n",
    "    for i in range(total_batch):\n",
    "        batch_xs, batch_ys = mnist.train.next_batch(batch_size)\n",
    "        feeds={x:batch_xs, y:batch_ys}\n",
    "        sess.run(optm, feed_dict=feeds)\n",
    "        avg_cost+=sess.run(cost, feed_dict=feeds)\n",
    "    avg_cost = avg_cost/total_batch\n",
    "    \n",
    "    #DISPLAY\n",
    "    if(epoch+1)%display_step==0:\n",
    "        print(\"EPOCH : %03d/%03d cost: %.9f\"%(epoch,training_epochs,avg_cost))\n",
    "        feeds={x:batch_xs, y:batch_ys}\n",
    "        train_acc=sess.run(accr, feed_dict=feeds)\n",
    "        print(\"TRAIN ACCURACY: %.3f\" %(train_acc))\n",
    "        feeds={x:mnist.test.images[:100,:], y:mnist.test.labels[:100,:]}\n",
    "        test_acc=sess.run(accr,feed_dict=feeds)\n",
    "        print(\"TEST ACCURACY: %.3f\" %(test_acc))\n",
    "    \n",
    "    #SAVE\n",
    "    if(epoch+1)%save_step==0:\n",
    "        savename=savedir+\"net-\"+str(epoch+1)+\".ckpt\"\n",
    "        saver.save(sess.savename)\n",
    "        print(\"[%s] SAVED\"%(savename))\n",
    "print(\"OPTIMIZATION FINISHED\")"
   ]
  },
  {
   "cell_type": "code",
   "execution_count": null,
   "metadata": {},
   "outputs": [],
   "source": [
    "#RESTORE\n",
    "do_restore = 1\n",
    "if do_restore ==1:\n",
    "    sess = tf.Session()\n",
    "    epoch = 4\n",
    "    savename = savedir+\"net-\"+str(epoch)+\".ckpt\"\n",
    "    saver.restore(sess,savename)\n",
    "    print(\"NETWORK RESTORED\")\n",
    "else:\n",
    "    print(\"DO NOTHING\")"
   ]
  },
  {
   "cell_type": "code",
   "execution_count": null,
   "metadata": {},
   "outputs": [],
   "source": [
    "#중간과정 엿보기\n",
    "input_r=sess.run(cnnout['x_r'],feed_dict={c:trainimg[0:1,:]})\n",
    "conv1=sess.run(cnnout['conv1'],feed_dict={x:trainimg[0:1,:]})\n",
    "conv2=sess.run(cnnout['conv2'],feed_dict={x:trainimg[0:1,:]})\n",
    "conv3=sess.run(cnnout['conv3'],feed_dict={x:trainimg[0:1,:]})\n",
    "pool=sess.run(cnnout['pool'],feed_dict={x:trainimg[0:1,:]})\n",
    "dense=sess.run(cnnout['dense'],feed_dict={x:trainimg[0:1,:]})\n",
    "out=sess.run(cnnout['logit'],feed_dict={x:trainimg[0:1,:]})"
   ]
  },
  {
   "cell_type": "code",
   "execution_count": null,
   "metadata": {},
   "outputs": [],
   "source": [
    "#input\n",
    "print(\"Size of 'input_r' is %s\"%(input_r.shape,))\n",
    "label=np.argmax(trainlabel[0,:])\n",
    "print(\"Label is %d\"%(label))\n",
    "\n",
    "#plot\n",
    "plt.matshow(input_r[0,:,:,0],cmap=plt.get_cmap('gray'))\n",
    "plt.title(\"Label of this image is \"+str(label)+\"\")\n",
    "plt.colorbar()\n",
    "plt.show()"
   ]
  },
  {
   "cell_type": "code",
   "execution_count": null,
   "metadata": {},
   "outputs": [],
   "source": [
    "#conv\n",
    "print(\"Size of 'conv1' is %s\"%(conv1.shape,))#이거하면 사이즈 (1,28,28,64)라서 64갠데 3개만 보여주겠다는거\n",
    "for i in range(3):\n",
    "    plt.matshow(conv1[0,:,:,i],cmap=plt.get_cmap('gray'))\n",
    "    plt.title(str(i)+\"th conv1\")\n",
    "    plt.colorbar()\n",
    "    plt.show()"
   ]
  },
  {
   "cell_type": "code",
   "execution_count": null,
   "metadata": {},
   "outputs": [],
   "source": [
    "#conv + bias. 모양은 (1,28,28,64)로 똑같은데 컬러바의 값 range를 바꿔줌\n",
    "print(\"Size of 'conv2' is %s\"%(conv2.shape,))#이거하면 사이즈 (1,28,28,64)라서 64갠데 3개만 보여주겠다는거\n",
    "for i in range(3):\n",
    "    plt.matshow(conv2[0,:,:,i],cmap=plt.get_cmap('gray'))\n",
    "    plt.title(str(i)+\"th conv2\")\n",
    "    plt.colorbar()\n",
    "    plt.show()"
   ]
  },
  {
   "cell_type": "code",
   "execution_count": null,
   "metadata": {},
   "outputs": [],
   "source": [
    "#conv+bias+relu. sparse represion이 가능하게 해줌 렐루 거침으로써 마이너스 값들은 0으로 되고 나머지값들도 1보다 작은 값으로 만들어버림.이래서 바이어스가 중요한게 만약 바이어스가 -100이었으면 모든값이 렐루 거치고 나서 다0되어버리겠지\n",
    "print(\"Size of 'conv3' is %s\"%(conv3.shape,))#이거하면 사이즈 (1,28,28,64)라서 64갠데 3개만 보여주겠다는거\n",
    "for i in range(3):\n",
    "    plt.matshow(conv3[0,:,:,i],cmap=plt.get_cmap('gray'))\n",
    "    plt.title(str(i)+\"th conv3\")\n",
    "    plt.colorbar()\n",
    "    plt.show()"
   ]
  },
  {
   "cell_type": "code",
   "execution_count": null,
   "metadata": {},
   "outputs": [],
   "source": [
    "#POOL\n",
    "print(\"Size of 'pool' is %s\"%(pool.shape,))#이거하면 사이즈 (1,14,14,64)라서 64갠데 3개만 보여주겠다는거 course한(뭉툭한) 형태\n",
    "for i in range(3):\n",
    "    plt.matshow(pool[0,:,:,i],cmap=plt.get_cmap('gray'))\n",
    "    plt.title(str(i)+\"th pool\")\n",
    "    plt.colorbar()\n",
    "    plt.show()"
   ]
  },
  {
   "cell_type": "code",
   "execution_count": null,
   "metadata": {},
   "outputs": [],
   "source": [
    "#DENSE\n",
    "print(\"Size of 'DENSE' is %s\"%(dens.shape,))#이거하면 사이즈 (1,6272)\n",
    "print(\"Size of 'OUT' is %s\"%(out.shape,))#이거하면 사이즈 (1,10)\n",
    "plt.matshow(out,cmap=plt.get_cmap('gray'))\n",
    "plt.title(\"OUT\")\n",
    "plt.colorbar()\n",
    "plt.show()"
   ]
  },
  {
   "cell_type": "code",
   "execution_count": null,
   "metadata": {},
   "outputs": [],
   "source": [
    "#CONVOLUTION FILTER\n",
    "wc1=sess.run(weights['c1'])\n",
    "print(\"SIZE OF 'wc1' IS %s\" %(wc1.shape,))\n",
    "for i in range(3):\n",
    "    plt.matshow(wc1[0,:,:,i],cmap=plt.get_cmap('gray'))\n",
    "    plt.title(str(i)+\"th conv filter\")\n",
    "    plt.colorbar()\n",
    "    plt.show()"
   ]
  },
  {
   "cell_type": "code",
   "execution_count": null,
   "metadata": {},
   "outputs": [],
   "source": []
  }
 ],
 "metadata": {
  "kernelspec": {
   "display_name": "Python 3",
   "language": "python",
   "name": "python3"
  },
  "language_info": {
   "codemirror_mode": {
    "name": "ipython",
    "version": 3
   },
   "file_extension": ".py",
   "mimetype": "text/x-python",
   "name": "python",
   "nbconvert_exporter": "python",
   "pygments_lexer": "ipython3",
   "version": "3.6.9"
  }
 },
 "nbformat": 4,
 "nbformat_minor": 2
}
