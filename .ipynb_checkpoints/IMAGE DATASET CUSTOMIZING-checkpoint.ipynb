{
 "cells": [
  {
   "cell_type": "code",
   "execution_count": 1,
   "metadata": {},
   "outputs": [
    {
     "name": "stdout",
     "output_type": "stream",
     "text": [
      "PACHAGES LOADED\n"
     ]
    }
   ],
   "source": [
    "#DATASET GENERATION\n",
    "import numpy as np\n",
    "import os\n",
    "from scipy.misc import imread, imresize\n",
    "import matplotlib.pyplot as plt\n",
    "%matplotlib inline\n",
    "cwd=os.getcwd()\n",
    "print(\"PACHAGES LOADED\")"
   ]
  },
  {
   "cell_type": "code",
   "execution_count": 2,
   "metadata": {},
   "outputs": [
    {
     "name": "stdout",
     "output_type": "stream",
     "text": [
      "YOUR IMAGES SHOULD BE AT\n",
      " [0/4] ../images/1\n",
      " [1/4] ../images/2\n",
      " [2/4] ../images/3\n",
      " [3/4] ../images/4\n",
      "DATA WILL BE SAVED TO \n",
      " [C:\\Users\\pc\\Desktop\\논문구현/data/custom_data.npz]\n"
     ]
    }
   ],
   "source": [
    "\n",
    "#FOLDER LOCATIONS\n",
    "paths=[\"../images/1\"\n",
    "       ,\"../images/2\"\n",
    "       ,\"../images/3\"\n",
    "       ,\"../images/4\"\n",
    "      ]\n",
    "categories=['A','B','C','D']\n",
    "\n",
    "#CONFIGURATION\n",
    "imgsize=[64,64]\n",
    "use_gray=0#0이면 칼라, 1이면 회색\n",
    "data_name=\"custom_data\"\n",
    "\n",
    "print(\"YOUR IMAGES SHOULD BE AT\")\n",
    "for i,path in enumerate(paths):\n",
    "    print(\" [%d/%d] %s\" %(i,len(paths),path))\n",
    "print(\"DATA WILL BE SAVED TO \\n [%s]\"\n",
    "     %(cwd+'/data/'+data_name+'.npz'))#npz=numpyzip"
   ]
  },
  {
   "cell_type": "code",
   "execution_count": 3,
   "metadata": {},
   "outputs": [],
   "source": [
    "#RGB2GRAY\n",
    "def rgb2gray(rgb):\n",
    "    if len(rgb.shape) is 3:\n",
    "        return np.dot(rgb[...,:3],[0.299,0.584,0.114])\n",
    "    else:\n",
    "        return rgb"
   ]
  },
  {
   "cell_type": "code",
   "execution_count": null,
   "metadata": {},
   "outputs": [],
   "source": [
    "#ROAD IMAGES\n",
    "nclass = len(paths)\n",
    "valid_exts=[\".jpg\",\".gif\",\".png\",\".tga\",\".jpeg\"]\n",
    "imgcnt=0\n",
    "for i, relpath in zip(range(nclass),paths):\n",
    "    path=cwd+\"/\"+relpath\n",
    "    flist=os.listdir(path)\n",
    "    for f in flist:\n",
    "        if os.path.splitext(f)[1].lower() not in valid_exts:\n",
    "            continue\n",
    "        fullpath = os.path.join(path,f)\n",
    "        currimg = imread(fullpath)\n",
    "        #CONVERT TO GRAY(IF REQUIRED)\n",
    "        if use_gray:\n",
    "            grayimg=rgb2gray(currimg)\n",
    "        else:\n",
    "            grayimg=currimg\n",
    "        #RESIZE\n",
    "        graysamll=imresize(grayimg, [imgsize[0],imgsize[1]])/255.\n",
    "        grayvec=np.reshape(graysmall, (1,-1))\n",
    "        #SAVE\n",
    "        curr_label=np.eye(nclass.nclass)[i:i+1,:]"
   ]
  },
  {
   "cell_type": "code",
   "execution_count": null,
   "metadata": {},
   "outputs": [],
   "source": []
  },
  {
   "cell_type": "code",
   "execution_count": null,
   "metadata": {},
   "outputs": [],
   "source": []
  },
  {
   "cell_type": "code",
   "execution_count": null,
   "metadata": {},
   "outputs": [],
   "source": []
  },
  {
   "cell_type": "code",
   "execution_count": null,
   "metadata": {},
   "outputs": [],
   "source": []
  }
 ],
 "metadata": {
  "kernelspec": {
   "display_name": "Python 3",
   "language": "python",
   "name": "python3"
  },
  "language_info": {
   "codemirror_mode": {
    "name": "ipython",
    "version": 3
   },
   "file_extension": ".py",
   "mimetype": "text/x-python",
   "name": "python",
   "nbconvert_exporter": "python",
   "pygments_lexer": "ipython3",
   "version": "3.6.9"
  }
 },
 "nbformat": 4,
 "nbformat_minor": 2
}
