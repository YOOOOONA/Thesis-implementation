{
 "cells": [
  {
   "cell_type": "code",
   "execution_count": 1,
   "metadata": {},
   "outputs": [
    {
     "name": "stdout",
     "output_type": "stream",
     "text": [
      "PACKAGES LOADED\n"
     ]
    }
   ],
   "source": [
    "import numpy as np\n",
    "import tensorflow as tf\n",
    "from tensorflow.examples.tutorials.mnist import input_data\n",
    "import tensorflow as tf\n",
    "import os\n",
    "import matplotlib.pyplot as plt\n",
    "%matplotlib inline\n",
    "print(\"PACKAGES LOADED\")"
   ]
  },
  {
   "cell_type": "code",
   "execution_count": 2,
   "metadata": {},
   "outputs": [
    {
     "name": "stdout",
     "output_type": "stream",
     "text": [
      "WARNING:tensorflow:From <ipython-input-2-77b88dc85c3b>:1: read_data_sets (from tensorflow.contrib.learn.python.learn.datasets.mnist) is deprecated and will be removed in a future version.\n",
      "Instructions for updating:\n",
      "Please use alternatives such as official/mnist/dataset.py from tensorflow/models.\n",
      "WARNING:tensorflow:From C:\\Users\\pc\\Anaconda3\\envs\\five\\lib\\site-packages\\tensorflow\\contrib\\learn\\python\\learn\\datasets\\mnist.py:260: maybe_download (from tensorflow.contrib.learn.python.learn.datasets.base) is deprecated and will be removed in a future version.\n",
      "Instructions for updating:\n",
      "Please write your own downloading logic.\n",
      "WARNING:tensorflow:From C:\\Users\\pc\\Anaconda3\\envs\\five\\lib\\site-packages\\tensorflow\\contrib\\learn\\python\\learn\\datasets\\mnist.py:262: extract_images (from tensorflow.contrib.learn.python.learn.datasets.mnist) is deprecated and will be removed in a future version.\n",
      "Instructions for updating:\n",
      "Please use tf.data to implement this functionality.\n",
      "Extracting data/train-images-idx3-ubyte.gz\n",
      "WARNING:tensorflow:From C:\\Users\\pc\\Anaconda3\\envs\\five\\lib\\site-packages\\tensorflow\\contrib\\learn\\python\\learn\\datasets\\mnist.py:267: extract_labels (from tensorflow.contrib.learn.python.learn.datasets.mnist) is deprecated and will be removed in a future version.\n",
      "Instructions for updating:\n",
      "Please use tf.data to implement this functionality.\n",
      "Extracting data/train-labels-idx1-ubyte.gz\n",
      "WARNING:tensorflow:From C:\\Users\\pc\\Anaconda3\\envs\\five\\lib\\site-packages\\tensorflow\\contrib\\learn\\python\\learn\\datasets\\mnist.py:110: dense_to_one_hot (from tensorflow.contrib.learn.python.learn.datasets.mnist) is deprecated and will be removed in a future version.\n",
      "Instructions for updating:\n",
      "Please use tf.one_hot on tensors.\n",
      "Extracting data/t10k-images-idx3-ubyte.gz\n",
      "Extracting data/t10k-labels-idx1-ubyte.gz\n",
      "WARNING:tensorflow:From C:\\Users\\pc\\Anaconda3\\envs\\five\\lib\\site-packages\\tensorflow\\contrib\\learn\\python\\learn\\datasets\\mnist.py:290: DataSet.__init__ (from tensorflow.contrib.learn.python.learn.datasets.mnist) is deprecated and will be removed in a future version.\n",
      "Instructions for updating:\n",
      "Please use alternatives such as official/mnist/dataset.py from tensorflow/models.\n",
      "MNIST loaded\n"
     ]
    }
   ],
   "source": [
    "mnist = input_data.read_data_sets('data/',one_hot=True)\n",
    "trainimg = mnist.train.images\n",
    "trainlabel = mnist.train.labels\n",
    "testimg = mnist.test.images\n",
    "testlabel = mnist.test.labels\n",
    "print(\"MNIST loaded\")"
   ]
  },
  {
   "cell_type": "code",
   "execution_count": 3,
   "metadata": {},
   "outputs": [
    {
     "name": "stdout",
     "output_type": "stream",
     "text": [
      "NETWORK READY\n"
     ]
    }
   ],
   "source": [
    "#DEFINE MODEL\n",
    "#notwork topologies\n",
    "n_input = 784\n",
    "n_channel = 64#컨볼루션 필터 개수\n",
    "n_classes = 10\n",
    "\n",
    "#inputs and outputs\n",
    "x = tf.placeholder(\"float\", [None, n_input])\n",
    "y = tf.placeholder(\"float\", [None, n_classes])\n",
    "\n",
    "#network parameters\n",
    "stddev = 0.1\n",
    "weights = {\n",
    "    'c1':tf.Variable(tf.random_normal([3,3,1,n_channel],stddev=stddev)),#convolution layer\n",
    "    'c2':tf.Variable(tf.random_normal([3,3,n_channel,128],stddev=stddev)),\n",
    "    'd1':tf.Variable(tf.random_normal([7*7*128,n_classes],stddev=stddev)),#denselayer\n",
    "}\n",
    "biases = {\n",
    "    'c1':tf.Variable(tf.random_normal([n_channel],stddev=stddev)),\n",
    "    'c2':tf.Variable(tf.random_normal([128],stddev=stddev)),\n",
    "    'd1':tf.Variable(tf.random_normal([n_classes],stddev=stddev)),\n",
    "}\n",
    "print(\"NETWORK READY\")\n"
   ]
  },
  {
   "cell_type": "code",
   "execution_count": 4,
   "metadata": {},
   "outputs": [
    {
     "name": "stdout",
     "output_type": "stream",
     "text": [
      "WARNING:tensorflow:From <ipython-input-4-a2f8b1ee77fe>:34: softmax_cross_entropy_with_logits (from tensorflow.python.ops.nn_ops) is deprecated and will be removed in a future version.\n",
      "Instructions for updating:\n",
      "\n",
      "Future major versions of TensorFlow will allow gradients to flow\n",
      "into the labels input on backprop by default.\n",
      "\n",
      "See `tf.nn.softmax_cross_entropy_with_logits_v2`.\n",
      "\n",
      "FUNCTION READY\n"
     ]
    }
   ],
   "source": [
    "#MODEL\n",
    "def CNN(_x, _w, _b):\n",
    "    # RESHAPE(현재 벡터형태라서 텐서형태로 바꿔줘야됨.)\n",
    "    _x_r = tf.reshape(_x, shape=[-1, 28, 28, 1])#앞에 몇갠지 몰라서 -1 여기선 784해줘도돼, 그다음이 28x28x1\n",
    "    # CONVOLUTION\n",
    "    _conv1 = tf.nn.conv2d(_x_r, _w['c1'], strides=[1, 1, 1, 1], padding='SAME')\n",
    "    # ADD BIAS\n",
    "    _conv2 = tf.nn.bias_add(_conv1, _b['c1'])\n",
    "    # RELU\n",
    "    _conv3 = tf.nn.relu(_conv2)\n",
    "    #MAX-POOl\n",
    "    _pool = tf.nn.max_pool(_conv3, ksize=[1, 2, 2, 1], strides=[1, 2, 2, 1], padding='SAME')\n",
    " \n",
    "    # SECOND CONV LAYER\n",
    "    _temp = tf.nn.conv2d(_pool, _w['c2'], strides=[1, 1, 1, 1], padding='SAME')\n",
    "    _temp = tf.nn.bias_add(_temp, _b['c2'])\n",
    "    _temp = tf.nn.relu(_temp)\n",
    "    _temp = tf.nn.max_pool(_temp, ksize=[1, 2, 2, 1], strides=[1, 2, 2, 1], padding='SAME')\n",
    "\n",
    "    # VECTORIZE\n",
    "    _dense = tf.reshape(_temp, [-1, _w['d1'].get_shape().as_list()[0]])#한줄로 핀다\n",
    "    # DENSE\n",
    "    _logit = tf.add(tf.matmul(_dense, _w['d1']), _b['d1'])\n",
    "    _out = {\n",
    "        'x_r' : _x_r, 'conv1' : _conv1, 'conv2' : _conv2, 'conv3' : _conv3,\n",
    "        'pool' : _pool, 'dense' : _dense, 'logit' : _logit\n",
    "}\n",
    "    return _out\n",
    "\n",
    "# PREDICTION\n",
    "cnnout = CNN(x, weights, biases)\n",
    "\n",
    "# LOSS AND OPTIMZER\n",
    "cost = tf.reduce_mean(tf.nn.softmax_cross_entropy_with_logits(labels=y, logits=cnnout['logit']))\n",
    "optm = tf.train.AdamOptimizer(learning_rate=0.001).minimize(cost)#cost를 최소화하는 방향으로 아담 최적화함수를사용한다\n",
    "corr = tf.equal(tf.argmax(cnnout['logit'], 1), tf.argmax(y, 1))\n",
    "accr = tf.reduce_mean(tf.cast(corr, \"float\"))\n",
    "\n",
    "# INITIALIZER\n",
    "init = tf.global_variables_initializer()\n",
    "print (\"FUNCTION READY\")"
   ]
  },
  {
   "cell_type": "code",
   "execution_count": 5,
   "metadata": {},
   "outputs": [
    {
     "name": "stdout",
     "output_type": "stream",
     "text": [
      "SAVER READY\n"
     ]
    }
   ],
   "source": [
    "#SAVER\n",
    "savedir=\"nets/cnn_mnist_simple/\"\n",
    "saver=tf.train.Saver(max_to_keep=3)#??최근 3개 모델만 저장\n",
    "save_step=4#얜뭐지?\n",
    "if not os.path.exists(savedir):\n",
    "    os.makedirs(savedir)\n",
    "print(\"SAVER READY\")"
   ]
  },
  {
   "cell_type": "code",
   "execution_count": 7,
   "metadata": {},
   "outputs": [
    {
     "name": "stdout",
     "output_type": "stream",
     "text": [
      "EPOCH : 003/020 cost: 0.026428275\n",
      "TRAIN ACCURACY: 0.990\n",
      "TEST ACCURACY: 0.990\n",
      "[nets/cnn_mnist_simple/net-4.ckpt] SAVED\n",
      "EPOCH : 007/020 cost: 0.009452231\n",
      "TRAIN ACCURACY: 1.000\n",
      "TEST ACCURACY: 0.990\n",
      "[nets/cnn_mnist_simple/net-8.ckpt] SAVED\n",
      "EPOCH : 011/020 cost: 0.003263385\n",
      "TRAIN ACCURACY: 1.000\n",
      "TEST ACCURACY: 0.990\n",
      "[nets/cnn_mnist_simple/net-12.ckpt] SAVED\n",
      "EPOCH : 015/020 cost: 0.001102383\n",
      "TRAIN ACCURACY: 1.000\n",
      "TEST ACCURACY: 0.990\n",
      "[nets/cnn_mnist_simple/net-16.ckpt] SAVED\n",
      "EPOCH : 019/020 cost: 0.001045494\n",
      "TRAIN ACCURACY: 1.000\n",
      "TEST ACCURACY: 0.990\n",
      "[nets/cnn_mnist_simple/net-20.ckpt] SAVED\n",
      "OPTIMIZATION FINISHED\n"
     ]
    }
   ],
   "source": [
    "#RUN(멀티퍼셉트론꺼 복붙)\n",
    "#PARAMETERS\n",
    "training_epochs=20\n",
    "batch_size=100\n",
    "display_step=4\n",
    "\n",
    "#LAUNCH THE GRAPH\n",
    "sess = tf.Session()\n",
    "sess.run(init)\n",
    "\n",
    "#OPTIMIZE\n",
    "for epoch in range(training_epochs):\n",
    "    avg_cost=0.\n",
    "    total_batch=int(mnist.train.num_examples/batch_size)\n",
    "    #ITERATION\n",
    "    for i in range(total_batch):\n",
    "        batch_xs, batch_ys = mnist.train.next_batch(batch_size)\n",
    "        feeds={x:batch_xs, y:batch_ys}\n",
    "        sess.run(optm, feed_dict=feeds)\n",
    "        avg_cost+=sess.run(cost, feed_dict=feeds)\n",
    "    avg_cost = avg_cost/total_batch\n",
    "    \n",
    "    #DISPLAY\n",
    "    if(epoch+1)%display_step==0:\n",
    "        print(\"EPOCH : %03d/%03d cost: %.9f\"%(epoch,training_epochs,avg_cost))\n",
    "        feeds={x:batch_xs, y:batch_ys}\n",
    "        train_acc=sess.run(accr, feed_dict=feeds)\n",
    "        print(\"TRAIN ACCURACY: %.3f\" %(train_acc))\n",
    "        feeds={x:mnist.test.images[:100,:], y:mnist.test.labels[:100,:]}\n",
    "        test_acc=sess.run(accr,feed_dict=feeds)\n",
    "        print(\"TEST ACCURACY: %.3f\" %(test_acc))\n",
    "    \n",
    "    #SAVE\n",
    "    if(epoch+1)%save_step==0:\n",
    "        savename=savedir+\"net-\"+str(epoch+1)+\".ckpt\"\n",
    "        saver.save(sess,savename)\n",
    "        print(\"[%s] SAVED\"%(savename))\n",
    "print(\"OPTIMIZATION FINISHED\")"
   ]
  },
  {
   "cell_type": "code",
   "execution_count": 8,
   "metadata": {},
   "outputs": [
    {
     "ename": "ValueError",
     "evalue": "The passed save_path is not a valid checkpoint: nets/cnn_mnist_simple/net-4.ckpt",
     "output_type": "error",
     "traceback": [
      "\u001b[1;31m---------------------------------------------------------------------------\u001b[0m",
      "\u001b[1;31mValueError\u001b[0m                                Traceback (most recent call last)",
      "\u001b[1;32m<ipython-input-8-95be1266b714>\u001b[0m in \u001b[0;36m<module>\u001b[1;34m\u001b[0m\n\u001b[0;32m      5\u001b[0m     \u001b[0mepoch\u001b[0m \u001b[1;33m=\u001b[0m \u001b[1;36m4\u001b[0m\u001b[1;33m\u001b[0m\u001b[1;33m\u001b[0m\u001b[0m\n\u001b[0;32m      6\u001b[0m     \u001b[0msavename\u001b[0m \u001b[1;33m=\u001b[0m \u001b[0msavedir\u001b[0m\u001b[1;33m+\u001b[0m\u001b[1;34m\"net-\"\u001b[0m\u001b[1;33m+\u001b[0m\u001b[0mstr\u001b[0m\u001b[1;33m(\u001b[0m\u001b[0mepoch\u001b[0m\u001b[1;33m)\u001b[0m\u001b[1;33m+\u001b[0m\u001b[1;34m\".ckpt\"\u001b[0m\u001b[1;33m\u001b[0m\u001b[1;33m\u001b[0m\u001b[0m\n\u001b[1;32m----> 7\u001b[1;33m     \u001b[0msaver\u001b[0m\u001b[1;33m.\u001b[0m\u001b[0mrestore\u001b[0m\u001b[1;33m(\u001b[0m\u001b[0msess\u001b[0m\u001b[1;33m,\u001b[0m\u001b[0msavename\u001b[0m\u001b[1;33m)\u001b[0m\u001b[1;33m\u001b[0m\u001b[1;33m\u001b[0m\u001b[0m\n\u001b[0m\u001b[0;32m      8\u001b[0m     \u001b[0mprint\u001b[0m\u001b[1;33m(\u001b[0m\u001b[1;34m\"NETWORK RESTORED\"\u001b[0m\u001b[1;33m)\u001b[0m\u001b[1;33m\u001b[0m\u001b[1;33m\u001b[0m\u001b[0m\n\u001b[0;32m      9\u001b[0m \u001b[1;32melse\u001b[0m\u001b[1;33m:\u001b[0m\u001b[1;33m\u001b[0m\u001b[1;33m\u001b[0m\u001b[0m\n",
      "\u001b[1;32m~\\Anaconda3\\envs\\five\\lib\\site-packages\\tensorflow\\python\\training\\saver.py\u001b[0m in \u001b[0;36mrestore\u001b[1;34m(self, sess, save_path)\u001b[0m\n\u001b[0;32m   1536\u001b[0m     \u001b[1;32mif\u001b[0m \u001b[1;32mnot\u001b[0m \u001b[0mcheckpoint_management\u001b[0m\u001b[1;33m.\u001b[0m\u001b[0mcheckpoint_exists\u001b[0m\u001b[1;33m(\u001b[0m\u001b[0mcompat\u001b[0m\u001b[1;33m.\u001b[0m\u001b[0mas_text\u001b[0m\u001b[1;33m(\u001b[0m\u001b[0msave_path\u001b[0m\u001b[1;33m)\u001b[0m\u001b[1;33m)\u001b[0m\u001b[1;33m:\u001b[0m\u001b[1;33m\u001b[0m\u001b[1;33m\u001b[0m\u001b[0m\n\u001b[0;32m   1537\u001b[0m       raise ValueError(\"The passed save_path is not a valid checkpoint: \"\n\u001b[1;32m-> 1538\u001b[1;33m                        + compat.as_text(save_path))\n\u001b[0m\u001b[0;32m   1539\u001b[0m \u001b[1;33m\u001b[0m\u001b[0m\n\u001b[0;32m   1540\u001b[0m     \u001b[0mlogging\u001b[0m\u001b[1;33m.\u001b[0m\u001b[0minfo\u001b[0m\u001b[1;33m(\u001b[0m\u001b[1;34m\"Restoring parameters from %s\"\u001b[0m\u001b[1;33m,\u001b[0m \u001b[0mcompat\u001b[0m\u001b[1;33m.\u001b[0m\u001b[0mas_text\u001b[0m\u001b[1;33m(\u001b[0m\u001b[0msave_path\u001b[0m\u001b[1;33m)\u001b[0m\u001b[1;33m)\u001b[0m\u001b[1;33m\u001b[0m\u001b[1;33m\u001b[0m\u001b[0m\n",
      "\u001b[1;31mValueError\u001b[0m: The passed save_path is not a valid checkpoint: nets/cnn_mnist_simple/net-4.ckpt"
     ]
    }
   ],
   "source": [
    "#RESTORE\n",
    "do_restore = 1\n",
    "if do_restore ==1:\n",
    "    sess = tf.Session()\n",
    "    epoch = 4\n",
    "    savename = savedir+\"net-\"+str(epoch)+\".ckpt\"\n",
    "    saver.restore(sess,savename)\n",
    "    print(\"NETWORK RESTORED\")\n",
    "else:\n",
    "    print(\"DO NOTHING\")"
   ]
  },
  {
   "cell_type": "code",
   "execution_count": null,
   "metadata": {},
   "outputs": [],
   "source": []
  },
  {
   "cell_type": "code",
   "execution_count": null,
   "metadata": {},
   "outputs": [],
   "source": []
  },
  {
   "cell_type": "code",
   "execution_count": null,
   "metadata": {},
   "outputs": [],
   "source": []
  }
 ],
 "metadata": {
  "kernelspec": {
   "display_name": "Python 3",
   "language": "python",
   "name": "python3"
  },
  "language_info": {
   "codemirror_mode": {
    "name": "ipython",
    "version": 3
   },
   "file_extension": ".py",
   "mimetype": "text/x-python",
   "name": "python",
   "nbconvert_exporter": "python",
   "pygments_lexer": "ipython3",
   "version": "3.6.9"
  }
 },
 "nbformat": 4,
 "nbformat_minor": 2
}
