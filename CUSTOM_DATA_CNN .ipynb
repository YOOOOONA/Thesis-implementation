{
 "cells": [
  {
   "cell_type": "markdown",
   "metadata": {},
   "source": [
    "Basic data set generation"
   ]
  },
  {
   "cell_type": "code",
   "execution_count": 1,
   "metadata": {},
   "outputs": [
    {
     "name": "stdout",
     "output_type": "stream",
     "text": [
      "Package loaded\n",
      "Current folder is C:\\Users\\pc\\Desktop\\논문구현\n"
     ]
    }
   ],
   "source": [
    "import numpy as np\n",
    "import os\n",
    "from scipy.misc import imread, imresize\n",
    "import matplotlib.pyplot as plt\n",
    "import tensorflow as tf\n",
    "%matplotlib inline  \n",
    "print (\"Package loaded\") \n",
    "cwd = os.getcwd()\n",
    "print (\"Current folder is %s\" % (cwd) )"
   ]
  },
  {
   "cell_type": "code",
   "execution_count": 4,
   "metadata": {},
   "outputs": [
    {
     "name": "stdout",
     "output_type": "stream",
     "text": [
      "Your images should be at\n",
      " [0/1] C:\\Users\\pc\\Desktop\\논문구현/../face_images\n",
      "Data will be saved to C:\\Users\\pc\\Desktop\\논문구현/data/face_data.npz\n"
     ]
    }
   ],
   "source": [
    "# Training set folder \n",
    "paths = {\"../programmers_vision/face_images\"}\n",
    "    \n",
    "# The reshape size\n",
    "imgsize = [64, 64]\n",
    "categories=['1','2','3','4','5','6']\n",
    "# Grayscale\n",
    "use_gray = 1\n",
    "# Save name\n",
    "data_name = \"face_data\"\n",
    "\n",
    "print (\"Your images should be at\")\n",
    "for i, path in enumerate(paths):\n",
    "    print (\" [%d/%d] %s/%s\" % (i, len(paths), cwd, path)) \n",
    "\n",
    "print (\"Data will be saved to %s\" \n",
    "       % (cwd + '/data/' + data_name + '.npz'))\n"
   ]
  },
  {
   "cell_type": "code",
   "execution_count": 11,
   "metadata": {},
   "outputs": [
    {
     "ename": "ModuleNotFoundError",
     "evalue": "No module named 'cv2'",
     "output_type": "error",
     "traceback": [
      "\u001b[1;31m---------------------------------------------------------------------------\u001b[0m",
      "\u001b[1;31mModuleNotFoundError\u001b[0m                       Traceback (most recent call last)",
      "\u001b[1;32m<ipython-input-11-762780f19457>\u001b[0m in \u001b[0;36m<module>\u001b[1;34m\u001b[0m\n\u001b[0;32m      1\u001b[0m \u001b[1;31m#csv->xlsx 파일읽기 filename, label 컬럼 두개 읽어서 딕셔너리..\u001b[0m\u001b[1;33m\u001b[0m\u001b[1;33m\u001b[0m\u001b[1;33m\u001b[0m\u001b[0m\n\u001b[0;32m      2\u001b[0m \u001b[1;32mimport\u001b[0m \u001b[0mopenpyxl\u001b[0m\u001b[1;33m\u001b[0m\u001b[1;33m\u001b[0m\u001b[0m\n\u001b[1;32m----> 3\u001b[1;33m \u001b[1;32mimport\u001b[0m \u001b[0mcv2\u001b[0m\u001b[1;33m\u001b[0m\u001b[1;33m\u001b[0m\u001b[0m\n\u001b[0m\u001b[0;32m      4\u001b[0m \u001b[0mbook\u001b[0m\u001b[1;33m=\u001b[0m\u001b[0mopenpyxl\u001b[0m\u001b[1;33m.\u001b[0m\u001b[0mload_workbook\u001b[0m\u001b[1;33m(\u001b[0m\u001b[1;34m\"../programmers_vision/train_vision.xlsx\"\u001b[0m\u001b[1;33m)\u001b[0m\u001b[1;33m\u001b[0m\u001b[1;33m\u001b[0m\u001b[0m\n\u001b[0;32m      5\u001b[0m \u001b[0msheet\u001b[0m\u001b[1;33m=\u001b[0m\u001b[0mbook\u001b[0m\u001b[1;33m.\u001b[0m\u001b[0mget_sheet_by_name\u001b[0m\u001b[1;33m(\u001b[0m\u001b[1;34m\"train_vision\"\u001b[0m\u001b[1;33m)\u001b[0m\u001b[1;33m\u001b[0m\u001b[1;33m\u001b[0m\u001b[0m\n",
      "\u001b[1;31mModuleNotFoundError\u001b[0m: No module named 'cv2'"
     ]
    }
   ],
   "source": [
    "#csv->xlsx 파일읽기 filename, label 컬럼 두개 읽어서 딕셔너리..\n",
    "import openpyxl\n",
    "import cv2\n",
    "book=openpyxl.load_workbook(\"../programmers_vision/train_vision.xlsx\")\n",
    "sheet=book.get_sheet_by_name(\"train_vision\")\n",
    "filename=[]\n",
    "label=[]\n",
    "dir_path=\"../programmers_vision/\"\n",
    "for row in range(1,5851):\n",
    "    \n",
    "    filename.append(sheet.cell(row=row,column=1).value)\n",
    "    label.append(sheet.cell(row=row,column=2).value)\n",
    "    cv2.imwrite(dir_path+filename[-1],dir_path+\"faces_images/\"+filename[-1])\n",
    "    \n",
    "print(row,\"Dataset done\")\n",
    "\n"
   ]
  },
  {
   "cell_type": "markdown",
   "metadata": {},
   "source": [
    "Data will be saved to /home/enginius/github/tensorflow-101/notebooks/data/custom_data.npz\n",
    "RGB 2 GRAY FUNCTION"
   ]
  },
  {
   "cell_type": "code",
   "execution_count": 3,
   "metadata": {},
   "outputs": [
    {
     "name": "stderr",
     "output_type": "stream",
     "text": [
      "C:\\Users\\pc\\Anaconda3\\envs\\five\\lib\\site-packages\\ipykernel_launcher.py:19: DeprecationWarning: `imread` is deprecated!\n",
      "`imread` is deprecated in SciPy 1.0.0, and will be removed in 1.2.0.\n",
      "Use ``imageio.imread`` instead.\n",
      "C:\\Users\\pc\\Anaconda3\\envs\\five\\lib\\site-packages\\ipykernel_launcher.py:26: DeprecationWarning: `imresize` is deprecated!\n",
      "`imresize` is deprecated in SciPy 1.0.0, and will be removed in 1.2.0.\n",
      "Use ``skimage.transform.resize`` instead.\n"
     ]
    },
    {
     "name": "stdout",
     "output_type": "stream",
     "text": [
      "Total 52 images loaded.\n"
     ]
    }
   ],
   "source": [
    "def rgb2gray(rgb):\n",
    "    if len(rgb.shape) is 3:\n",
    "        return np.dot(rgb[...,:3], [0.299, 0.587, 0.114])\n",
    "    else:\n",
    "        # print (\"Current Image if GRAY!\")\n",
    "        return rgb\n",
    "\n",
    "#LOAD IMAGES    \n",
    "nclass     = 6\n",
    "valid_exts = [\".jpg\",\".gif\",\".png\",\".tga\", \".jpeg\"]\n",
    "imgcnt     = 0\n",
    "for i, relpath in zip(range(nclass), paths):\n",
    "    path = cwd + \"/\" + relpath\n",
    "    flist = os.listdir(path)\n",
    "    for f in flist:\n",
    "        if os.path.splitext(f)[1].lower() not in valid_exts:\n",
    "            continue\n",
    "        fullpath = os.path.join(path, f)\n",
    "        currimg  = imread(fullpath)\n",
    "        # Convert to grayscale  \n",
    "        if use_gray:\n",
    "            grayimg  = rgb2gray(currimg)\n",
    "        else:\n",
    "            grayimg  = currimg\n",
    "        # Reshape\n",
    "        graysmall = imresize(grayimg, [imgsize[0], imgsize[1]])/255.\n",
    "        grayvec   = np.reshape(graysmall, (1, -1))\n",
    "        # Save \n",
    "        curr_label = np.eye(nclass, nclass)[i:i+1, :]\n",
    "        if imgcnt is 0:\n",
    "            totalimg   = grayvec\n",
    "            totallabel = curr_label\n",
    "        else:\n",
    "            totalimg   = np.concatenate((totalimg, grayvec), axis=0)\n",
    "            totallabel = np.concatenate((totallabel, curr_label), axis=0)\n",
    "        imgcnt    = imgcnt + 1\n",
    "print (\"Total %d images loaded.\" % (imgcnt))\n"
   ]
  },
  {
   "cell_type": "markdown",
   "metadata": {},
   "source": [
    "DIVIDE TOTAL DATA INTO TRAINING AND TEST SET"
   ]
  },
  {
   "cell_type": "code",
   "execution_count": 4,
   "metadata": {},
   "outputs": [
    {
     "name": "stdout",
     "output_type": "stream",
     "text": [
      "Shape of 'trainimg' is (31, 4096)\n",
      "Shape of 'trainlabel' is (31, 4)\n",
      "Shape of 'testimg' is (21, 4096)\n",
      "Shape of 'testlabel' is (21, 4)\n"
     ]
    }
   ],
   "source": [
    "def print_shape(string, x):\n",
    "    print (\"Shape of '%s' is %s\" % (string, x.shape,))\n",
    "    \n",
    "randidx    = np.random.randint(imgcnt, size=imgcnt)\n",
    "trainidx   = randidx[0:int(3*imgcnt/5)]\n",
    "testidx    = randidx[int(3*imgcnt/5):imgcnt]\n",
    "trainimg   = totalimg[trainidx, :]\n",
    "trainlabel = totallabel[trainidx, :]\n",
    "testimg    = totalimg[testidx, :]\n",
    "testlabel  = totallabel[testidx, :]\n",
    "print_shape(\"trainimg\", trainimg)\n",
    "print_shape(\"trainlabel\", trainlabel)\n",
    "print_shape(\"testimg\", testimg)\n",
    "print_shape(\"testlabel\", testlabel)"
   ]
  },
  {
   "cell_type": "markdown",
   "metadata": {},
   "source": [
    "SAVE TO NPZ"
   ]
  },
  {
   "cell_type": "code",
   "execution_count": 5,
   "metadata": {},
   "outputs": [
    {
     "name": "stdout",
     "output_type": "stream",
     "text": [
      "Saved to C:\\Users\\pc\\Desktop\\논문구현/data/custom_data.npz\n"
     ]
    }
   ],
   "source": [
    "savepath = cwd + \"/data/\" + data_name + \".npz\"\n",
    "np.savez(savepath, trainimg=trainimg, trainlabel=trainlabel\n",
    "         , testimg=testimg, testlabel=testlabel, imgsize=imgsize, use_gray=use_gray, categories=categories)\n",
    "print (\"Saved to %s\" % (savepath))"
   ]
  },
  {
   "cell_type": "markdown",
   "metadata": {},
   "source": [
    "LOAD TO CHECK!"
   ]
  },
  {
   "cell_type": "code",
   "execution_count": 9,
   "metadata": {},
   "outputs": [
    {
     "name": "stdout",
     "output_type": "stream",
     "text": [
      "31 train images loaded\n",
      "21 test images loaded\n",
      "Loaded from to C:\\Users\\pc\\Desktop\\논문구현/data/custom_data.npz\n"
     ]
    }
   ],
   "source": [
    "# Load them!\n",
    "cwd = os.getcwd()\n",
    "loadpath = cwd + \"/data/\" + data_name + \".npz\"\n",
    "l = np.load(loadpath)\n",
    "\n",
    "# See what's in here\n",
    "l.files\n",
    "\n",
    "# Parse data\n",
    "trainimg_loaded = l['trainimg']\n",
    "trainlabel_loaded = l['trainlabel']\n",
    "testimg_loaded = l['testimg']\n",
    "testlabel_loaded = l['testlabel']\n",
    "\n",
    "print (\"%d train images loaded\" % (trainimg_loaded.shape[0]))\n",
    "print (\"%d test images loaded\" % (testimg_loaded.shape[0]))\n",
    "print (\"Loaded from to %s\" % (savepath))"
   ]
  },
  {
   "cell_type": "markdown",
   "metadata": {},
   "source": [
    "PLOT RANDOMLY SELECTED TRAIN IMAGES"
   ]
  },
  {
   "cell_type": "code",
   "execution_count": 14,
   "metadata": {},
   "outputs": [
    {
     "ename": "ValueError",
     "evalue": "cannot reshape array of size 4096 into shape (64,64,3)",
     "output_type": "error",
     "traceback": [
      "\u001b[1;31m---------------------------------------------------------------------------\u001b[0m",
      "\u001b[1;31mValueError\u001b[0m                                Traceback (most recent call last)",
      "\u001b[1;32m<ipython-input-14-02237edd368e>\u001b[0m in \u001b[0;36m<module>\u001b[1;34m\u001b[0m\n\u001b[0;32m     11\u001b[0m         \u001b[0mplt\u001b[0m\u001b[1;33m.\u001b[0m\u001b[0mcolorbar\u001b[0m\u001b[1;33m(\u001b[0m\u001b[1;33m)\u001b[0m\u001b[1;33m\u001b[0m\u001b[1;33m\u001b[0m\u001b[0m\n\u001b[0;32m     12\u001b[0m     \u001b[1;32melse\u001b[0m\u001b[1;33m:\u001b[0m\u001b[1;33m\u001b[0m\u001b[1;33m\u001b[0m\u001b[0m\n\u001b[1;32m---> 13\u001b[1;33m         \u001b[0mcurrimg\u001b[0m \u001b[1;33m=\u001b[0m \u001b[0mnp\u001b[0m\u001b[1;33m.\u001b[0m\u001b[0mreshape\u001b[0m\u001b[1;33m(\u001b[0m\u001b[0mtrainimg\u001b[0m\u001b[1;33m[\u001b[0m\u001b[0mi\u001b[0m\u001b[1;33m,\u001b[0m \u001b[1;33m:\u001b[0m\u001b[1;33m]\u001b[0m\u001b[1;33m,\u001b[0m \u001b[1;33m(\u001b[0m\u001b[0mimgsize\u001b[0m\u001b[1;33m[\u001b[0m\u001b[1;36m0\u001b[0m\u001b[1;33m]\u001b[0m\u001b[1;33m,\u001b[0m \u001b[0mimgsize\u001b[0m\u001b[1;33m[\u001b[0m\u001b[1;36m1\u001b[0m\u001b[1;33m]\u001b[0m\u001b[1;33m,\u001b[0m \u001b[1;36m3\u001b[0m\u001b[1;33m)\u001b[0m\u001b[1;33m)\u001b[0m\u001b[1;33m\u001b[0m\u001b[1;33m\u001b[0m\u001b[0m\n\u001b[0m\u001b[0;32m     14\u001b[0m         \u001b[0mplt\u001b[0m\u001b[1;33m.\u001b[0m\u001b[0mimshow\u001b[0m\u001b[1;33m(\u001b[0m\u001b[0mcurrimg\u001b[0m\u001b[1;33m)\u001b[0m\u001b[1;33m\u001b[0m\u001b[1;33m\u001b[0m\u001b[0m\n\u001b[0;32m     15\u001b[0m     \u001b[0mtitle_string\u001b[0m \u001b[1;33m=\u001b[0m \u001b[1;34m\"[%d] %d-class\"\u001b[0m \u001b[1;33m%\u001b[0m \u001b[1;33m(\u001b[0m\u001b[0mi\u001b[0m\u001b[1;33m,\u001b[0m \u001b[0mcurrlabel\u001b[0m\u001b[1;33m)\u001b[0m\u001b[1;33m\u001b[0m\u001b[1;33m\u001b[0m\u001b[0m\n",
      "\u001b[1;32m~\\Anaconda3\\envs\\five\\lib\\site-packages\\numpy\\core\\fromnumeric.py\u001b[0m in \u001b[0;36mreshape\u001b[1;34m(a, newshape, order)\u001b[0m\n\u001b[0;32m    290\u001b[0m            [5, 6]])\n\u001b[0;32m    291\u001b[0m     \"\"\"\n\u001b[1;32m--> 292\u001b[1;33m     \u001b[1;32mreturn\u001b[0m \u001b[0m_wrapfunc\u001b[0m\u001b[1;33m(\u001b[0m\u001b[0ma\u001b[0m\u001b[1;33m,\u001b[0m \u001b[1;34m'reshape'\u001b[0m\u001b[1;33m,\u001b[0m \u001b[0mnewshape\u001b[0m\u001b[1;33m,\u001b[0m \u001b[0morder\u001b[0m\u001b[1;33m=\u001b[0m\u001b[0morder\u001b[0m\u001b[1;33m)\u001b[0m\u001b[1;33m\u001b[0m\u001b[1;33m\u001b[0m\u001b[0m\n\u001b[0m\u001b[0;32m    293\u001b[0m \u001b[1;33m\u001b[0m\u001b[0m\n\u001b[0;32m    294\u001b[0m \u001b[1;33m\u001b[0m\u001b[0m\n",
      "\u001b[1;32m~\\Anaconda3\\envs\\five\\lib\\site-packages\\numpy\\core\\fromnumeric.py\u001b[0m in \u001b[0;36m_wrapfunc\u001b[1;34m(obj, method, *args, **kwds)\u001b[0m\n\u001b[0;32m     54\u001b[0m \u001b[1;32mdef\u001b[0m \u001b[0m_wrapfunc\u001b[0m\u001b[1;33m(\u001b[0m\u001b[0mobj\u001b[0m\u001b[1;33m,\u001b[0m \u001b[0mmethod\u001b[0m\u001b[1;33m,\u001b[0m \u001b[1;33m*\u001b[0m\u001b[0margs\u001b[0m\u001b[1;33m,\u001b[0m \u001b[1;33m**\u001b[0m\u001b[0mkwds\u001b[0m\u001b[1;33m)\u001b[0m\u001b[1;33m:\u001b[0m\u001b[1;33m\u001b[0m\u001b[1;33m\u001b[0m\u001b[0m\n\u001b[0;32m     55\u001b[0m     \u001b[1;32mtry\u001b[0m\u001b[1;33m:\u001b[0m\u001b[1;33m\u001b[0m\u001b[1;33m\u001b[0m\u001b[0m\n\u001b[1;32m---> 56\u001b[1;33m         \u001b[1;32mreturn\u001b[0m \u001b[0mgetattr\u001b[0m\u001b[1;33m(\u001b[0m\u001b[0mobj\u001b[0m\u001b[1;33m,\u001b[0m \u001b[0mmethod\u001b[0m\u001b[1;33m)\u001b[0m\u001b[1;33m(\u001b[0m\u001b[1;33m*\u001b[0m\u001b[0margs\u001b[0m\u001b[1;33m,\u001b[0m \u001b[1;33m**\u001b[0m\u001b[0mkwds\u001b[0m\u001b[1;33m)\u001b[0m\u001b[1;33m\u001b[0m\u001b[1;33m\u001b[0m\u001b[0m\n\u001b[0m\u001b[0;32m     57\u001b[0m \u001b[1;33m\u001b[0m\u001b[0m\n\u001b[0;32m     58\u001b[0m     \u001b[1;31m# An AttributeError occurs if the object does not have\u001b[0m\u001b[1;33m\u001b[0m\u001b[1;33m\u001b[0m\u001b[1;33m\u001b[0m\u001b[0m\n",
      "\u001b[1;31mValueError\u001b[0m: cannot reshape array of size 4096 into shape (64,64,3)"
     ]
    }
   ],
   "source": []
  },
  {
   "cell_type": "markdown",
   "metadata": {},
   "source": [
    "PLOT RANDOMLY SELECTED TEST IMAGES"
   ]
  },
  {
   "cell_type": "code",
   "execution_count": 15,
   "metadata": {},
   "outputs": [
    {
     "ename": "ValueError",
     "evalue": "cannot reshape array of size 4096 into shape (64,64,3)",
     "output_type": "error",
     "traceback": [
      "\u001b[1;31m---------------------------------------------------------------------------\u001b[0m",
      "\u001b[1;31mValueError\u001b[0m                                Traceback (most recent call last)",
      "\u001b[1;32m<ipython-input-15-c1face31c508>\u001b[0m in \u001b[0;36m<module>\u001b[1;34m\u001b[0m\n\u001b[0;32m     13\u001b[0m         \u001b[0mplt\u001b[0m\u001b[1;33m.\u001b[0m\u001b[0mcolorbar\u001b[0m\u001b[1;33m(\u001b[0m\u001b[1;33m)\u001b[0m\u001b[1;33m\u001b[0m\u001b[1;33m\u001b[0m\u001b[0m\n\u001b[0;32m     14\u001b[0m     \u001b[1;32melse\u001b[0m\u001b[1;33m:\u001b[0m\u001b[1;33m\u001b[0m\u001b[1;33m\u001b[0m\u001b[0m\n\u001b[1;32m---> 15\u001b[1;33m         \u001b[0mcurrimg\u001b[0m \u001b[1;33m=\u001b[0m \u001b[0mnp\u001b[0m\u001b[1;33m.\u001b[0m\u001b[0mreshape\u001b[0m\u001b[1;33m(\u001b[0m\u001b[0mtestimg\u001b[0m\u001b[1;33m[\u001b[0m\u001b[0mi\u001b[0m\u001b[1;33m,\u001b[0m \u001b[1;33m:\u001b[0m\u001b[1;33m]\u001b[0m\u001b[1;33m,\u001b[0m \u001b[1;33m(\u001b[0m\u001b[0mimgsize\u001b[0m\u001b[1;33m[\u001b[0m\u001b[1;36m0\u001b[0m\u001b[1;33m]\u001b[0m\u001b[1;33m,\u001b[0m \u001b[0mimgsize\u001b[0m\u001b[1;33m[\u001b[0m\u001b[1;36m1\u001b[0m\u001b[1;33m]\u001b[0m\u001b[1;33m,\u001b[0m \u001b[1;36m3\u001b[0m\u001b[1;33m)\u001b[0m\u001b[1;33m)\u001b[0m\u001b[1;33m\u001b[0m\u001b[1;33m\u001b[0m\u001b[0m\n\u001b[0m\u001b[0;32m     16\u001b[0m         \u001b[0mplt\u001b[0m\u001b[1;33m.\u001b[0m\u001b[0mimshow\u001b[0m\u001b[1;33m(\u001b[0m\u001b[0mcurrimg\u001b[0m\u001b[1;33m)\u001b[0m\u001b[1;33m\u001b[0m\u001b[1;33m\u001b[0m\u001b[0m\n\u001b[0;32m     17\u001b[0m     \u001b[0mtitle_string\u001b[0m \u001b[1;33m=\u001b[0m \u001b[1;34m\"[%d] %d-class\"\u001b[0m \u001b[1;33m%\u001b[0m \u001b[1;33m(\u001b[0m\u001b[0mi\u001b[0m\u001b[1;33m,\u001b[0m \u001b[0mcurrlabel\u001b[0m\u001b[1;33m)\u001b[0m\u001b[1;33m\u001b[0m\u001b[1;33m\u001b[0m\u001b[0m\n",
      "\u001b[1;32m~\\Anaconda3\\envs\\five\\lib\\site-packages\\numpy\\core\\fromnumeric.py\u001b[0m in \u001b[0;36mreshape\u001b[1;34m(a, newshape, order)\u001b[0m\n\u001b[0;32m    290\u001b[0m            [5, 6]])\n\u001b[0;32m    291\u001b[0m     \"\"\"\n\u001b[1;32m--> 292\u001b[1;33m     \u001b[1;32mreturn\u001b[0m \u001b[0m_wrapfunc\u001b[0m\u001b[1;33m(\u001b[0m\u001b[0ma\u001b[0m\u001b[1;33m,\u001b[0m \u001b[1;34m'reshape'\u001b[0m\u001b[1;33m,\u001b[0m \u001b[0mnewshape\u001b[0m\u001b[1;33m,\u001b[0m \u001b[0morder\u001b[0m\u001b[1;33m=\u001b[0m\u001b[0morder\u001b[0m\u001b[1;33m)\u001b[0m\u001b[1;33m\u001b[0m\u001b[1;33m\u001b[0m\u001b[0m\n\u001b[0m\u001b[0;32m    293\u001b[0m \u001b[1;33m\u001b[0m\u001b[0m\n\u001b[0;32m    294\u001b[0m \u001b[1;33m\u001b[0m\u001b[0m\n",
      "\u001b[1;32m~\\Anaconda3\\envs\\five\\lib\\site-packages\\numpy\\core\\fromnumeric.py\u001b[0m in \u001b[0;36m_wrapfunc\u001b[1;34m(obj, method, *args, **kwds)\u001b[0m\n\u001b[0;32m     54\u001b[0m \u001b[1;32mdef\u001b[0m \u001b[0m_wrapfunc\u001b[0m\u001b[1;33m(\u001b[0m\u001b[0mobj\u001b[0m\u001b[1;33m,\u001b[0m \u001b[0mmethod\u001b[0m\u001b[1;33m,\u001b[0m \u001b[1;33m*\u001b[0m\u001b[0margs\u001b[0m\u001b[1;33m,\u001b[0m \u001b[1;33m**\u001b[0m\u001b[0mkwds\u001b[0m\u001b[1;33m)\u001b[0m\u001b[1;33m:\u001b[0m\u001b[1;33m\u001b[0m\u001b[1;33m\u001b[0m\u001b[0m\n\u001b[0;32m     55\u001b[0m     \u001b[1;32mtry\u001b[0m\u001b[1;33m:\u001b[0m\u001b[1;33m\u001b[0m\u001b[1;33m\u001b[0m\u001b[0m\n\u001b[1;32m---> 56\u001b[1;33m         \u001b[1;32mreturn\u001b[0m \u001b[0mgetattr\u001b[0m\u001b[1;33m(\u001b[0m\u001b[0mobj\u001b[0m\u001b[1;33m,\u001b[0m \u001b[0mmethod\u001b[0m\u001b[1;33m)\u001b[0m\u001b[1;33m(\u001b[0m\u001b[1;33m*\u001b[0m\u001b[0margs\u001b[0m\u001b[1;33m,\u001b[0m \u001b[1;33m**\u001b[0m\u001b[0mkwds\u001b[0m\u001b[1;33m)\u001b[0m\u001b[1;33m\u001b[0m\u001b[1;33m\u001b[0m\u001b[0m\n\u001b[0m\u001b[0;32m     57\u001b[0m \u001b[1;33m\u001b[0m\u001b[0m\n\u001b[0;32m     58\u001b[0m     \u001b[1;31m# An AttributeError occurs if the object does not have\u001b[0m\u001b[1;33m\u001b[0m\u001b[1;33m\u001b[0m\u001b[1;33m\u001b[0m\u001b[0m\n",
      "\u001b[1;31mValueError\u001b[0m: cannot reshape array of size 4096 into shape (64,64,3)"
     ]
    }
   ],
   "source": [
    "\n",
    "# Do batch stuff using loaded data \n",
    "ntest_loaded = testimg_loaded.shape[0]\n",
    "batch_size   = 3;\n",
    "randidx      = np.random.randint(ntest_loaded, size=batch_size)\n",
    "for i in randidx: \n",
    "    currimg = np.reshape(testimg_loaded[i, :], (imgsize[0], -1))\n",
    "    currlabel_onehot = testlabel_loaded[i, :]\n",
    "    currlabel = np.argmax(currlabel_onehot) \n",
    "    \n",
    "    if use_gray:\n",
    "        currimg = np.reshape(testimg[i, :], (imgsize[0], -1))\n",
    "        plt.matshow(currimg, cmap=plt.get_cmap('gray'))\n",
    "        plt.colorbar()\n",
    "    else:\n",
    "        currimg = np.reshape(testimg[i, :], (imgsize[0], imgsize[1], 3))\n",
    "        plt.imshow(currimg)\n",
    "    title_string = \"[%d] %d-class\" % (i, currlabel)\n",
    "    plt.title(title_string) \n",
    "    plt.show()\n"
   ]
  },
  {
   "cell_type": "code",
   "execution_count": null,
   "metadata": {},
   "outputs": [],
   "source": [
    "# LOAD DATA\n",
    "cwd = os.getcwd()\n",
    "loadpath = cwd + \"/data/custom_data.npz\"\n",
    "l = np.load(loadpath)\n",
    "print (l.files)\n"
   ]
  },
  {
   "cell_type": "code",
   "execution_count": null,
   "metadata": {},
   "outputs": [],
   "source": [
    "\n",
    "# PARSE LOADED DATA\n",
    "trainimg = l['trainimg']\n",
    "trainlabel = l['trainlabel']\n",
    "testimg = l['testimg']\n",
    "testlabel = l['testlabel']\n",
    "imgsize = l['imgsize']\n",
    "categories = l['categories']\n",
    "use_gray = l['use_gray']\n",
    "if use_gray:\n",
    "    nimgch = 1\n",
    "else:\n",
    "    nimgch = 3\n",
    "ntrain = trainimg.shape[0]\n",
    "nclass = trainlabel.shape[1]\n",
    "dim = trainimg.shape[1]\n",
    "ntest = testimg.shape[0]\n",
    "print (\"%d TRAIN IMAGES\" % (ntrain))\n",
    "print (\"%d TEST IMAGES\" % (ntest))\n",
    "print (\"%d DIMENSIONAL INPUT\" % (dim))\n",
    "print (\"%d CLASSES\" % (nclass))\n",
    "print (imgsize)\n",
    "print (categories)\n",
    "\n",
    "# NETWORK TOPOLOCIES\n",
    "n_input = dim\n",
    "n_channel = 64\n",
    "n_classes = nclass\n",
    "\n",
    "# INPUTS AND OUTPUTS\n",
    "x = tf.placeholder(\"float\", [None, n_input])\n",
    "y = tf.placeholder(\"float\", [None, n_classes])\n",
    "\n",
    "# NETWORK PARAMETERS\n",
    "stddev = 0.1\n",
    "weights = {\n",
    "    'c1' : tf.Variable(tf.random_normal([7, 7, nimgch, n_channel], stddev=stddev)),\n",
    "    'd1' : tf.Variable(tf.random_normal([n_channel*imgsize[0]*imgsize[1]//4, n_classes], stddev=stddev))\n",
    "}\n",
    "biases = {\n",
    "    'c1' : tf.Variable(tf.random_normal([n_channel], stddev=stddev)),\n",
    "    'd1' : tf.Variable(tf.random_normal([n_classes], stddev=stddev))\n",
    "}\n",
    "print (\"NETWORK READY\")\n",
    "\n",
    "\n"
   ]
  },
  {
   "cell_type": "code",
   "execution_count": null,
   "metadata": {},
   "outputs": [],
   "source": [
    "# MODEL\n",
    "def CNN(_x, _w, _b):\n",
    "    # RESHAPE\n",
    "    _x_r = tf.reshape(_x, shape=[-1, imgsize[0], imgsize[1], nimgch])\n",
    "    # CONVOLUTION\n",
    "    _conv1 = tf.nn.conv2d(_x_r, _w['c1'], strides=[1, 1, 1, 1], padding='SAME')\n",
    "    # ADD BIAS\n",
    "    _conv2 = tf.nn.bias_add(_conv1, _b['c1'])\n",
    "    # RELU\n",
    "    _conv3 = tf.nn.relu(_conv2)\n",
    "    # MAX-POOL\n",
    "    _pool = tf.nn.max_pool(_conv3, ksize=[1, 2, 2, 1], strides=[1, 2, 2, 1], padding='SAME')\n",
    "\n",
    "    # VECTORIZE\n",
    "    _dense = tf.reshape(_pool, [-1, _w['d1'].get_shape().as_list()[0]])\n",
    "    # DENSE\n",
    "    _logit = tf.add(tf.matmul(_dense, _w['d1']), _b['d1'])\n",
    "    _out = {\n",
    "            'x_r' : _x_r, 'conv1' : _conv1, 'conv2' : _conv2, 'conv3' : _conv3, \n",
    "                    'pool' : _pool, 'dense' : _dense, 'logit' : _logit\n",
    "    }\n",
    "    return _out\n",
    "\n",
    "# PREDICTION\n",
    "cnnout = CNN(x, weights, biases)\n",
    "\n",
    "# LOSS AND OPTIMIZER\n",
    "cost = tf.reduce_mean(tf.nn.softmax_cross_entropy_with_logits(labels=y, logits=cnnout['logit']))\n",
    "optm = tf.train.AdamOptimizer(learning_rate=0.001).minimize(cost)\n",
    "corr = tf.equal(tf.argmax(cnnout['logit'], 1), tf.argmax(y, 1))\n",
    "accr = tf.reduce_mean(tf.cast(corr, \"float\"))\n",
    "\n",
    "# INITIALIZER\n",
    "init = tf.global_variables_initializer()\n",
    "print (\"FUNCTIONS READY\")\n"
   ]
  },
  {
   "cell_type": "markdown",
   "metadata": {},
   "source": [
    "RUN"
   ]
  },
  {
   "cell_type": "code",
   "execution_count": null,
   "metadata": {},
   "outputs": [],
   "source": [
    "# PARAMETERS\n",
    "training_epochs = 50\n",
    "batch_size = 5\n",
    "disp_each = 10\n",
    "plot_each = 10\n",
    "# LAUNCH THE GRAPH\n",
    "sess = tf.Session()\n",
    "sess.run(init)\n",
    "# OPTIMIZE\n",
    "for epoch in range(training_epochs):\n",
    "    total_batch = int(ntrain/batch_size)\n",
    "    #print(ntrain)\n",
    "    randpermlist = np.random.permutation(ntrain)\n",
    "    sun_cost = 0.\n",
    "    for i in range(total_batch):\n",
    "        randidx = randpermlist[i*batch_size:min((i+1)*batch_size, ntrain-1)]\n",
    "        batch_xs = trainimg[randidx, :]\n",
    "        batch_ys = trainlabel[randidx, :]\n",
    "        feeds = {x: batch_xs, y: batch_ys}\n",
    "        sess.run(optm, feed_dict=feeds)\n",
    "        sun_cost += sess.run(cost, feed_dict=feeds)\n",
    "    avg_cost = sun_cost / total_batch\n",
    "\n",
    "    # DISPLAY\n",
    "    if (epoch+1) % disp_each == 0 or epoch == training_epochs-1:\n",
    "        print (\"Epoch: %03d/%03d cost : %.9f\" % (epoch+1, training_epochs, avg_cost))\n",
    "        feeds = {x: batch_xs, y:batch_ys}\n",
    "        train_acc = sess.run(accr, feed_dict=feeds)\n",
    "        print (\" TRAIN ACCURACY : %.3f\" % (train_acc))\n",
    "        feeds = {x: testimg, y:testlabel}\n",
    "        test_acc = sess.run(accr, feed_dict=feeds)\n",
    "        print (\"TEST ACCURACY : %.3f\" % (test_acc))\n",
    "\n",
    "    #PLOT\n",
    "    if (epoch+1) % plot_each == 0 or epoch == training_epochs-1:\n",
    "        ntemp = int(ntest/batch_size) + 1\n",
    "        missidxlist = []\n",
    "        for ii in range(ntemp):\n",
    "            iii = np.arange(ii*batch_size, min(ntest, (ii+1)*batch_size))\n",
    "            feeds = {x: testimg[iii, :], y: testlabel[iii, :]}\n",
    "            missidx = np.where(sess.run(corr,feed_dict=feeds) == 0)[0]\n",
    "            missidxlist = np.concatenate((missidxlist, iii[missidx]))\n",
    "        nmiss = len(missidxlist)\n",
    "        print (\"%d MISSED\" % (nmiss))\n",
    "        # PLOT MISSCLASSIFIED (UPTO THREE)\n",
    "        missidxlist = np.random.permutation(missidxlist.astype(int))\n",
    "        selmissidx = missidxlist[:min(3, nmiss)].astype(int)\n",
    "        feeds_miss = {x:testimg[selmissidx,:],y:testlabel[selmissidx,:]}\n",
    "        pred_miss = sess.run(cnnout['logit'],feed_dict=feeds_miss)\n",
    "        answ_miss = np.argmax(pred_miss, 1)\n",
    "        answ_corr = np.argmax(testlabel[selmissidx, :] ,1)\n",
    "        for idx in range(len(selmissidx)):\n",
    "            cidx = selmissidx[idx]\n",
    "            anw = answ_miss[idx]\n",
    "            ref = answ_corr[idx]\n",
    "            if use_gray != 0:\n",
    "                currimg = np.reshape(testimg[cidx, :], (imgsize[0], imgsize[1]))\n",
    "                plt.imshow(currimg, cmap='gray')\n",
    "            else :\n",
    "                currimg = np.reshape(testimg[cidx, :], (imgsize[0], imgsize[1], -1))\n",
    "                plt.imshow(currimg)\n",
    "            anw_category = categories[anw]\n",
    "            ref_category = categories[ref]\n",
    "            title_string = (\"IDX: %d CURR ANWR: [%s] TRUE LABEL: [%s]\"\n",
    "                    % (cidx, anw_category, ref_category))\n",
    "            plt.title(title_string)\n",
    "            plt.show()\n"
   ]
  },
  {
   "cell_type": "code",
   "execution_count": null,
   "metadata": {},
   "outputs": [],
   "source": []
  }
 ],
 "metadata": {
  "kernelspec": {
   "display_name": "Python 3",
   "language": "python",
   "name": "python3"
  },
  "language_info": {
   "codemirror_mode": {
    "name": "ipython",
    "version": 3
   },
   "file_extension": ".py",
   "mimetype": "text/x-python",
   "name": "python",
   "nbconvert_exporter": "python",
   "pygments_lexer": "ipython3",
   "version": "3.6.9"
  }
 },
 "nbformat": 4,
 "nbformat_minor": 2
}
