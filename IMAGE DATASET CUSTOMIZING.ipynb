{
 "cells": [
  {
   "cell_type": "code",
   "execution_count": 1,
   "metadata": {},
   "outputs": [
    {
     "name": "stdout",
     "output_type": "stream",
     "text": [
      "PACHAGES LOADED\n"
     ]
    }
   ],
   "source": [
    "#DATASET GENERATION\n",
    "import numpy as np\n",
    "import os\n",
    "from scipy.misc import imread, imresize\n",
    "import matplotlib.pyplot as plt\n",
    "%matplotlib inline\n",
    "cwd=os.getcwd()\n",
    "print(\"PACHAGES LOADED\")"
   ]
  },
  {
   "cell_type": "code",
   "execution_count": 2,
   "metadata": {},
   "outputs": [
    {
     "name": "stdout",
     "output_type": "stream",
     "text": [
      "YOUR IMAGES SHOULD BE AT\n",
      " [0/4] ../images/1\n",
      " [1/4] ../images/2\n",
      " [2/4] ../images/3\n",
      " [3/4] ../images/4\n",
      "DATA WILL BE SAVED TO \n",
      " [C:\\Users\\pc\\Desktop\\논문구현/data/custom_data.npz]\n"
     ]
    }
   ],
   "source": [
    "\n",
    "#FOLDER LOCATIONS\n",
    "paths=[\"../images/1\"\n",
    "       ,\"../images/2\"\n",
    "       ,\"../images/3\"\n",
    "       ,\"../images/4\"\n",
    "      ]\n",
    "categories=['A','B','C','D']\n",
    "\n",
    "#CONFIGURATION\n",
    "imgsize=[64,64]\n",
    "use_gray=1#0이면 칼라, 1이면 회색\n",
    "data_name=\"custom_data\"\n",
    "\n",
    "print(\"YOUR IMAGES SHOULD BE AT\")\n",
    "for i,path in enumerate(paths):\n",
    "    print(\" [%d/%d] %s\" %(i,len(paths),path))\n",
    "print(\"DATA WILL BE SAVED TO \\n [%s]\"\n",
    "     %(cwd+'/data/'+data_name+'.npz'))#npz=numpyzip"
   ]
  },
  {
   "cell_type": "code",
   "execution_count": 3,
   "metadata": {},
   "outputs": [],
   "source": [
    "#RGB2GRAY\n",
    "def rgb2gray(rgb):\n",
    "    if len(rgb.shape) is 3:\n",
    "        return np.dot(rgb[...,:3],[0.299,0.584,0.114])\n",
    "    else:\n",
    "        return rgb"
   ]
  },
  {
   "cell_type": "code",
   "execution_count": 4,
   "metadata": {},
   "outputs": [
    {
     "name": "stderr",
     "output_type": "stream",
     "text": [
      "C:\\Users\\pc\\Anaconda3\\envs\\five\\lib\\site-packages\\ipykernel_launcher.py:12: DeprecationWarning: `imread` is deprecated!\n",
      "`imread` is deprecated in SciPy 1.0.0, and will be removed in 1.2.0.\n",
      "Use ``imageio.imread`` instead.\n",
      "  if sys.path[0] == '':\n",
      "C:\\Users\\pc\\Anaconda3\\envs\\five\\lib\\site-packages\\ipykernel_launcher.py:19: DeprecationWarning: `imresize` is deprecated!\n",
      "`imresize` is deprecated in SciPy 1.0.0, and will be removed in 1.2.0.\n",
      "Use ``skimage.transform.resize`` instead.\n"
     ]
    },
    {
     "name": "stdout",
     "output_type": "stream",
     "text": [
      "TOTAL 52 IMAGES\n"
     ]
    }
   ],
   "source": [
    "#ROAD IMAGES\n",
    "nclass = len(paths)\n",
    "valid_exts=[\".jpg\",\".gif\",\".png\",\".tga\",\".jpeg\"]\n",
    "imgcnt=0\n",
    "for i, relpath in zip(range(nclass),paths):\n",
    "    path=cwd+\"/\"+relpath\n",
    "    flist=os.listdir(path)\n",
    "    for f in flist:\n",
    "        if os.path.splitext(f)[1].lower() not in valid_exts:\n",
    "            continue\n",
    "        fullpath = os.path.join(path,f)\n",
    "        currimg = imread(fullpath)\n",
    "        #CONVERT TO GRAY(IF REQUIRED)\n",
    "        if use_gray:\n",
    "            grayimg=rgb2gray(currimg)\n",
    "        else:\n",
    "            grayimg=currimg\n",
    "        #RESIZE\n",
    "        graysmall=imresize(grayimg, [imgsize[0],imgsize[1]])/255.#동일한 사이즈로 만들어서\n",
    "        grayvec=np.reshape(graysmall, (1,-1))#한줄로 핀다\n",
    "        #SAVE\n",
    "        curr_label=np.eye(nclass,nclass)[i:i+1,:]\n",
    "        if imgcnt is 0:\n",
    "            totalimg = grayvec\n",
    "            totallabel=curr_label\n",
    "        else:\n",
    "            totalimg = np.concatenate((totalimg, grayvec),axis=0)\n",
    "            totallabel = np.concatenate((totallabel, curr_label),axis=0)\n",
    "        imgcnt = imgcnt+1\n",
    "print(\"TOTAL %d IMAGES\"%(imgcnt))"
   ]
  },
  {
   "cell_type": "code",
   "execution_count": 5,
   "metadata": {},
   "outputs": [
    {
     "name": "stdout",
     "output_type": "stream",
     "text": [
      "SHAPE OF [totalimg] IS [(52, 4096)]\n",
      "SHAPE OF [totallabel] IS [(52, 4)]\n",
      "SHAPE OF [trainimg] IS [(41, 4096)]\n",
      "SHAPE OF [trainlabel] IS [(11, 4)]\n",
      "SHAPE OF [testimg] IS [(11, 4096)]\n",
      "SHAPE OF [testlabel] IS [(11, 4)]\n"
     ]
    }
   ],
   "source": [
    "#DIVIDE INTO TRAINING AND TEST\n",
    "def print_shape(string,x):\n",
    "    print(\"SHAPE OF [%s] IS [%s]\"%(string, x.shape,))\n",
    "\n",
    "randidx = np.random.randint(imgcnt, size=imgcnt)\n",
    "trainidx = randidx[0:int(4*imgcnt/5)]#80퍼센트를 트레인데이터로 넣겠다는 뜻\n",
    "testidx = randidx[int(4*imgcnt/5):imgcnt]#나머지를 테스트데이터로 넣음\n",
    "\n",
    "trainimg = totalimg[trainidx,:]\n",
    "trainlabel = totallabel[testidx,:]\n",
    "\n",
    "testimg = totalimg[testidx,:]\n",
    "testlabel = totallabel[testidx,:]\n",
    "\n",
    "print_shape(\"totalimg\",totalimg)\n",
    "print_shape(\"totallabel\",totallabel)\n",
    "print_shape(\"trainimg\",trainimg)\n",
    "print_shape(\"trainlabel\",trainlabel)\n",
    "print_shape(\"testimg\",testimg)\n",
    "print_shape(\"testlabel\",testlabel)#12288=64*64*3(rgb니까~)"
   ]
  },
  {
   "cell_type": "code",
   "execution_count": 6,
   "metadata": {},
   "outputs": [
    {
     "name": "stdout",
     "output_type": "stream",
     "text": [
      "SAVED TO [C:\\Users\\pc\\Desktop\\논문구현/data/custom_data.npz]\n"
     ]
    }
   ],
   "source": [
    "#SAVE TO NPZ\n",
    "savepath = cwd +\"/data/\"+data_name+\".npz\"\n",
    "np.savez(savepath, trainimg=trainimg, trainlabel=trainlabel\n",
    "        , testimg=testimg, testlabel=testlabel\n",
    "        ,imgsize=imgsize, use_gray=use_gray, categories=categories)\n",
    "print(\"SAVED TO [%s]\"%(savepath))"
   ]
  },
  {
   "cell_type": "code",
   "execution_count": 7,
   "metadata": {},
   "outputs": [
    {
     "name": "stdout",
     "output_type": "stream",
     "text": [
      "['trainimg', 'trainlabel', 'testimg', 'testlabel', 'imgsize', 'use_gray', 'categories']\n",
      "[41] TRAINING IMAGES\n",
      "[11] TEST IMAGES\n",
      "LOADED FROM [C:\\Users\\pc\\Desktop\\논문구현/data/custom_data.npz]\n"
     ]
    }
   ],
   "source": [
    "#LOAD NPZ\n",
    "#LOAD\n",
    "cwd=os.getcwd()\n",
    "loadpath=cwd+\"/data/\"+data_name+\".npz\"\n",
    "l=np.load(loadpath)\n",
    "print(l.files)\n",
    "\n",
    "#Parse data\n",
    "trainimg_loaded = l['trainimg']\n",
    "trainlabel_loaded = l['trainlabel']\n",
    "testimg_loaded = l['testimg']\n",
    "testlabel_loaded = l['testlabel']\n",
    "categories_loaded = l['categories']\n",
    "\n",
    "print(\"[%d] TRAINING IMAGES\" %(trainimg_loaded.shape[0]))\n",
    "print(\"[%d] TEST IMAGES\" %(testimg_loaded.shape[0]))\n",
    "print(\"LOADED FROM [%s]\"%(savepath))"
   ]
  },
  {
   "cell_type": "code",
   "execution_count": 8,
   "metadata": {},
   "outputs": [
    {
     "ename": "IndexError",
     "evalue": "index 24 is out of bounds for axis 0 with size 11",
     "output_type": "error",
     "traceback": [
      "\u001b[1;31m---------------------------------------------------------------------------\u001b[0m",
      "\u001b[1;31mIndexError\u001b[0m                                Traceback (most recent call last)",
      "\u001b[1;32m<ipython-input-8-cf4f6428116d>\u001b[0m in \u001b[0;36m<module>\u001b[1;34m\u001b[0m\n\u001b[0;32m      5\u001b[0m \u001b[1;32mfor\u001b[0m \u001b[0mi\u001b[0m \u001b[1;32min\u001b[0m \u001b[0mrandidx\u001b[0m\u001b[1;33m:\u001b[0m\u001b[1;33m\u001b[0m\u001b[1;33m\u001b[0m\u001b[0m\n\u001b[0;32m      6\u001b[0m     \u001b[0mcurrimg\u001b[0m \u001b[1;33m=\u001b[0m \u001b[0mnp\u001b[0m\u001b[1;33m.\u001b[0m\u001b[0mreshape\u001b[0m\u001b[1;33m(\u001b[0m\u001b[0mtrainimg_loaded\u001b[0m\u001b[1;33m[\u001b[0m\u001b[0mi\u001b[0m\u001b[1;33m,\u001b[0m \u001b[1;33m:\u001b[0m\u001b[1;33m]\u001b[0m\u001b[1;33m,\u001b[0m \u001b[1;33m(\u001b[0m\u001b[0mimgsize\u001b[0m\u001b[1;33m[\u001b[0m\u001b[1;36m0\u001b[0m\u001b[1;33m]\u001b[0m\u001b[1;33m,\u001b[0m \u001b[1;33m-\u001b[0m\u001b[1;36m1\u001b[0m\u001b[1;33m)\u001b[0m\u001b[1;33m)\u001b[0m\u001b[1;33m\u001b[0m\u001b[1;33m\u001b[0m\u001b[0m\n\u001b[1;32m----> 7\u001b[1;33m     \u001b[0mcurrlabel_onehot\u001b[0m \u001b[1;33m=\u001b[0m \u001b[0mtrainlabel_loaded\u001b[0m\u001b[1;33m[\u001b[0m\u001b[0mi\u001b[0m\u001b[1;33m,\u001b[0m \u001b[1;33m:\u001b[0m\u001b[1;33m]\u001b[0m\u001b[1;33m\u001b[0m\u001b[1;33m\u001b[0m\u001b[0m\n\u001b[0m\u001b[0;32m      8\u001b[0m     \u001b[0mcurrlabel\u001b[0m \u001b[1;33m=\u001b[0m \u001b[0mnp\u001b[0m\u001b[1;33m.\u001b[0m\u001b[0margmax\u001b[0m\u001b[1;33m(\u001b[0m\u001b[0mcurrlabel_onehot\u001b[0m\u001b[1;33m)\u001b[0m\u001b[1;33m\u001b[0m\u001b[1;33m\u001b[0m\u001b[0m\n\u001b[0;32m      9\u001b[0m     \u001b[1;32mif\u001b[0m \u001b[0muse_gray\u001b[0m\u001b[1;33m:\u001b[0m\u001b[1;33m\u001b[0m\u001b[1;33m\u001b[0m\u001b[0m\n",
      "\u001b[1;31mIndexError\u001b[0m: index 24 is out of bounds for axis 0 with size 11"
     ]
    }
   ],
   "source": [
    "#PLOT LOADED DATA\n",
    "ntrain_loaded = trainimg_loaded.shape[0]\n",
    "batch_size = 3;\n",
    "randidx = np.random.randint(ntrain_loaded, size=batch_size)\n",
    "for i in randidx: \n",
    "    currimg = np.reshape(trainimg_loaded[i, :], (imgsize[0], -1))\n",
    "    currlabel_onehot = trainlabel_loaded[i, :]\n",
    "    currlabel = np.argmax(currlabel_onehot) \n",
    "    if use_gray:\n",
    "        currimg = np.reshape(trainimg[i, :], (imgsize[0], -1))\n",
    "        plt.matshow(currimg, cmap=plt.get_cmap('gray'))\n",
    "        plt.colorbar()\n",
    "    else:\n",
    "        currimg = np.reshape(trainimg[i, :], (imgsize[0], imgsize[1], 3))\n",
    "        plt.imshow(currimg)\n",
    "    title_string = \"[%d] %d-class\" % (i, currlabel)\n",
    "    plt.title(title_string) \n",
    "    plt.show()"
   ]
  },
  {
   "cell_type": "code",
   "execution_count": null,
   "metadata": {},
   "outputs": [],
   "source": []
  },
  {
   "cell_type": "code",
   "execution_count": null,
   "metadata": {},
   "outputs": [],
   "source": []
  },
  {
   "cell_type": "code",
   "execution_count": null,
   "metadata": {},
   "outputs": [],
   "source": []
  }
 ],
 "metadata": {
  "kernelspec": {
   "display_name": "Python 3",
   "language": "python",
   "name": "python3"
  },
  "language_info": {
   "codemirror_mode": {
    "name": "ipython",
    "version": 3
   },
   "file_extension": ".py",
   "mimetype": "text/x-python",
   "name": "python",
   "nbconvert_exporter": "python",
   "pygments_lexer": "ipython3",
   "version": "3.6.9"
  }
 },
 "nbformat": 4,
 "nbformat_minor": 2
}
