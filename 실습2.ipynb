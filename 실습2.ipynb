{
 "cells": [
  {
   "cell_type": "code",
   "execution_count": 1,
   "metadata": {},
   "outputs": [
    {
     "name": "stdout",
     "output_type": "stream",
     "text": [
      "PACKAGES LOADED\n",
      "CURRENT TF VERSION IS 1.12.0\n"
     ]
    }
   ],
   "source": [
    "import numpy as np\n",
    "import tensorflow as tf\n",
    "print(\"PACKAGES LOADED\")\n",
    "print(\"CURRENT TF VERSION IS %s\" %(tf.__version__))"
   ]
  },
  {
   "cell_type": "code",
   "execution_count": 2,
   "metadata": {},
   "outputs": [
    {
     "name": "stdout",
     "output_type": "stream",
     "text": [
      "OPEN SESSION\n"
     ]
    }
   ],
   "source": [
    "sess = tf.Session()\n",
    "print(\"OPEN SESSION\")"
   ]
  },
  {
   "cell_type": "code",
   "execution_count": 3,
   "metadata": {},
   "outputs": [
    {
     "name": "stdout",
     "output_type": "stream",
     "text": [
      "TYPE iS\n",
      " <class 'tensorflow.python.framework.ops.Tensor'>\n",
      "VALUE IS\n",
      " Tensor(\"Const:0\", shape=(), dtype=string)\n"
     ]
    }
   ],
   "source": [
    "def print_tf(x):\n",
    "    print(\"TYPE iS\\n %s\" %(type(x)))\n",
    "    print(\"VALUE IS\\n %s\" %(x))\n",
    "hello = tf.constant(\"HELLO. iT's ME. \")\n",
    "print_tf(hello)"
   ]
  },
  {
   "cell_type": "code",
   "execution_count": 5,
   "metadata": {},
   "outputs": [
    {
     "name": "stdout",
     "output_type": "stream",
     "text": [
      "TYPE iS\n",
      " <class 'bytes'>\n",
      "VALUE IS\n",
      " b\"HELLO. iT's ME. \"\n"
     ]
    }
   ],
   "source": [
    "hello_out =sess.run(hello)//실제로 값을 뽑아보려면 sess.run을 반드시 해줘야함\n",
    "print_tf(hello_out)"
   ]
  },
  {
   "cell_type": "code",
   "execution_count": 6,
   "metadata": {},
   "outputs": [
    {
     "name": "stdout",
     "output_type": "stream",
     "text": [
      "TYPE iS\n",
      " <class 'tensorflow.python.framework.ops.Tensor'>\n",
      "VALUE IS\n",
      " Tensor(\"Const_1:0\", shape=(), dtype=float32)\n",
      "TYPE iS\n",
      " <class 'tensorflow.python.framework.ops.Tensor'>\n",
      "VALUE IS\n",
      " Tensor(\"Const_2:0\", shape=(), dtype=float32)\n"
     ]
    }
   ],
   "source": [
    "a=tf.constant(1.5)\n",
    "b=tf.constant(2.5)\n",
    "print_tf(a)\n",
    "print_tf(b)"
   ]
  },
  {
   "cell_type": "code",
   "execution_count": 7,
   "metadata": {},
   "outputs": [
    {
     "name": "stdout",
     "output_type": "stream",
     "text": [
      "TYPE iS\n",
      " <class 'numpy.float32'>\n",
      "VALUE IS\n",
      " 1.5\n",
      "TYPE iS\n",
      " <class 'numpy.float32'>\n",
      "VALUE IS\n",
      " 2.5\n"
     ]
    }
   ],
   "source": [
    "a_out=sess.run(a)\n",
    "b_out=sess.run(b)\n",
    "print_tf(a_out)\n",
    "print_tf(b_out)"
   ]
  },
  {
   "cell_type": "code",
   "execution_count": 8,
   "metadata": {},
   "outputs": [
    {
     "name": "stdout",
     "output_type": "stream",
     "text": [
      "TYPE iS\n",
      " <class 'tensorflow.python.framework.ops.Tensor'>\n",
      "VALUE IS\n",
      " Tensor(\"Add:0\", shape=(), dtype=float32)\n"
     ]
    }
   ],
   "source": [
    "a_plus_b=tf.add(a,b)\n",
    "print_tf(a_plus_b)"
   ]
  },
  {
   "cell_type": "code",
   "execution_count": 9,
   "metadata": {},
   "outputs": [
    {
     "name": "stdout",
     "output_type": "stream",
     "text": [
      "TYPE iS\n",
      " <class 'numpy.float32'>\n",
      "VALUE IS\n",
      " 4.0\n"
     ]
    }
   ],
   "source": [
    "a_plus_b_out=sess.run(a_plus_b)\n",
    "print_tf(a_plus_b_out)"
   ]
  },
  {
   "cell_type": "code",
   "execution_count": 11,
   "metadata": {},
   "outputs": [
    {
     "name": "stdout",
     "output_type": "stream",
     "text": [
      "TYPE iS\n",
      " <class 'numpy.float32'>\n",
      "VALUE IS\n",
      " 3.75\n"
     ]
    }
   ],
   "source": [
    "a_mul_b=tf.multiply(a,b)\n",
    "a_mul_b_out=sess.run(a_mul_b)\n",
    "print_tf(a_mul_b_out)"
   ]
  },
  {
   "cell_type": "code",
   "execution_count": 12,
   "metadata": {},
   "outputs": [
    {
     "name": "stdout",
     "output_type": "stream",
     "text": [
      "TYPE iS\n",
      " <class 'tensorflow.python.ops.variables.RefVariable'>\n",
      "VALUE IS\n",
      " <tf.Variable 'Variable:0' shape=(5, 2) dtype=float32_ref>\n"
     ]
    }
   ],
   "source": [
    "weight = tf.Variable(tf.random_normal([5,2],stddev=0.1))#변수 크기 셋팅\n",
    "print_tf(weight)"
   ]
  },
  {
   "cell_type": "code",
   "execution_count": 19,
   "metadata": {},
   "outputs": [
    {
     "name": "stdout",
     "output_type": "stream",
     "text": [
      "TYPE iS\n",
      " <class 'numpy.ndarray'>\n",
      "VALUE IS\n",
      " [[-0.09807011 -0.04658711]\n",
      " [ 0.02176444 -0.03136376]\n",
      " [-0.05481862 -0.08602764]\n",
      " [ 0.15478493 -0.0591924 ]\n",
      " [ 0.01592261  0.11502293]]\n"
     ]
    }
   ],
   "source": [
    "#tf.set_random_seed(0)\n",
    "init=tf.global_variables_initializer()#변수 초기화\n",
    "sess.run(init)\n",
    "weight_out=sess.run(weight)\n",
    "print_tf(weight_out)"
   ]
  },
  {
   "cell_type": "code",
   "execution_count": 20,
   "metadata": {},
   "outputs": [
    {
     "name": "stdout",
     "output_type": "stream",
     "text": [
      "TYPE iS\n",
      " <class 'tensorflow.python.framework.ops.Tensor'>\n",
      "VALUE IS\n",
      " Tensor(\"Placeholder:0\", shape=(?, 5), dtype=float32)\n"
     ]
    }
   ],
   "source": [
    "#placeholder입구같은거. 내가 미리 알고있는값을 넣어줄 통로라서 초기화는 필요없고 사이즈만 알려주면돼\n",
    "x=tf.placeholder(tf.float32, [None,5])#행개수 미지수, 열개수 5\n",
    "print_tf(x)\n"
   ]
  },
  {
   "cell_type": "code",
   "execution_count": 21,
   "metadata": {},
   "outputs": [
    {
     "name": "stdout",
     "output_type": "stream",
     "text": [
      "TYPE iS\n",
      " <class 'tensorflow.python.framework.ops.Tensor'>\n",
      "VALUE IS\n",
      " Tensor(\"MatMul:0\", shape=(?, 2), dtype=float32)\n"
     ]
    }
   ],
   "source": [
    "oper = tf.matmul(x,weight)#?x5  *  5x2   = ?x2\n",
    "print_tf(oper)"
   ]
  },
  {
   "cell_type": "code",
   "execution_count": 22,
   "metadata": {},
   "outputs": [
    {
     "name": "stdout",
     "output_type": "stream",
     "text": [
      "TYPE iS\n",
      " <class 'numpy.ndarray'>\n",
      "VALUE IS\n",
      " [[ 0.06207439 -0.05862669]]\n"
     ]
    }
   ],
   "source": [
    "#통로에 값을 집어넣는 명령어\n",
    "data=np.random.rand(1,5)\n",
    "oper_out=sess.run(oper, feed_dict={x:data})\n",
    "print_tf(oper_out)"
   ]
  },
  {
   "cell_type": "code",
   "execution_count": 23,
   "metadata": {},
   "outputs": [
    {
     "name": "stdout",
     "output_type": "stream",
     "text": [
      "TYPE iS\n",
      " <class 'numpy.ndarray'>\n",
      "VALUE IS\n",
      " [[-0.02686197 -0.0051616 ]\n",
      " [ 0.02725604 -0.08000979]\n",
      " [ 0.0354639  -0.03126014]\n",
      " [ 0.02175079 -0.07072778]\n",
      " [ 0.02317974  0.01340276]\n",
      " [ 0.00706921 -0.06638637]\n",
      " [-0.03696688 -0.07911818]\n",
      " [ 0.07943902 -0.06166714]\n",
      " [ 0.08571401  0.02333318]\n",
      " [ 0.0947555  -0.05157955]]\n"
     ]
    }
   ],
   "source": [
    "data = np.random.rand(10,5)\n",
    "oper_out=sess.run(oper,feed_dict={x:data})\n",
    "print_tf(oper_out)"
   ]
  }
 ],
 "metadata": {
  "kernelspec": {
   "display_name": "Python 3",
   "language": "python",
   "name": "python3"
  },
  "language_info": {
   "codemirror_mode": {
    "name": "ipython",
    "version": 3
   },
   "file_extension": ".py",
   "mimetype": "text/x-python",
   "name": "python",
   "nbconvert_exporter": "python",
   "pygments_lexer": "ipython3",
   "version": "3.6.9"
  }
 },
 "nbformat": 4,
 "nbformat_minor": 2
}
